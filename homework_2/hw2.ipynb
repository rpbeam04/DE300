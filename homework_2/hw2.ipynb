{
 "cells": [
  {
   "cell_type": "code",
   "execution_count": null,
   "id": "aece207d-9442-4d2a-ab0a-7f2cd5b327df",
   "metadata": {},
   "outputs": [],
   "source": [
    "!pip install duckdb\n",
    "!pip install cassandra-sigv4\n",
    "!pip install boto3"
   ]
  },
  {
   "cell_type": "markdown",
   "id": "31441ed4-d45f-49c8-b3a1-593d85c6ebe8",
   "metadata": {},
   "source": [
    "# Gen AI Disclosure\n",
    "\n",
    "I used Colab autocomplete to generate code from commented prompts where marked (CAI). I used ChatGPT for a little help with some file management commands in the terminal."
   ]
  },
  {
   "cell_type": "code",
   "execution_count": 1,
   "id": "1b578f22-3efe-43df-8506-ab16b7ef30c5",
   "metadata": {},
   "outputs": [],
   "source": [
    "# imports\n",
    "import pandas as pd\n",
    "import numpy as np\n",
    "import matplotlib.pyplot as plt\n",
    "import duckdb"
   ]
  },
  {
   "cell_type": "code",
   "execution_count": 2,
   "id": "31096cf2-fed6-4be0-b14b-b6fbcf4b58d8",
   "metadata": {},
   "outputs": [
    {
     "name": "stdout",
     "output_type": "stream",
     "text": [
      "┌──────────────────┐\n",
      "│       name       │\n",
      "│     varchar      │\n",
      "├──────────────────┤\n",
      "│ ADMISSIONS       │\n",
      "│ DRGCODES         │\n",
      "│ D_ICD_PROCEDURES │\n",
      "│ ICUSTAYS         │\n",
      "│ PATIENTS         │\n",
      "│ PRESCRIPTIONS    │\n",
      "│ PROCEDURES_ICD   │\n",
      "└──────────────────┘\n",
      "\n"
     ]
    }
   ],
   "source": [
    "# Setting up the database file\n",
    "conn = duckdb.connect('healthcare.duckdb')\n",
    "\n",
    "files = [\"ADMISSIONS.csv\",\"ICUSTAYS.csv\",\"PATIENTS.csv\",\"PROCEDURES_ICD.csv\",\n",
    "         \"D_ICD_PROCEDURES.csv\",\"DRGCODES.csv\",\"PRESCRIPTIONS.csv\"]\n",
    "\n",
    "for file in files:\n",
    "    data = pd.read_csv(f\"Data/{file}\")\n",
    "    # (CAI) Convert Create Table query to import dataframe\n",
    "    conn.sql(f\"\"\"\n",
    "        CREATE TABLE {file.removesuffix(\".csv\")} AS SELECT * FROM data;\n",
    "    \"\"\")\n",
    "\n",
    "r = conn.sql(\"SHOW TABLES;\")\n",
    "print(r)\n",
    "conn.close()"
   ]
  },
  {
   "cell_type": "markdown",
   "id": "619a39d1-d16d-4f2b-a371-27353a941642",
   "metadata": {},
   "source": [
    "## Analysis Questions"
   ]
  },
  {
   "cell_type": "markdown",
   "id": "26ce42ac-d8e5-44e5-8def-56afc9b8d83f",
   "metadata": {},
   "source": [
    "1. Create a summary of type of drugs and their total amount used by ethnicity. Report the top usage in each ethnicity group. You may have to make certain assumptions in calculating their total amount."
   ]
  },
  {
   "cell_type": "code",
   "execution_count": 3,
   "id": "81148191-a2c6-4663-8cad-6077be57c453",
   "metadata": {},
   "outputs": [],
   "source": [
    "conn = duckdb.connect(\"healthcare.duckdb\")"
   ]
  },
  {
   "cell_type": "code",
   "execution_count": 4,
   "id": "8921e4dc-fcc0-402a-bff3-cd5b2c827b47",
   "metadata": {},
   "outputs": [
    {
     "name": "stdout",
     "output_type": "stream",
     "text": [
      "Most perscribed drugs by ethnicity:\n",
      "AMERICAN INDIAN/ALASKA NATIVE FEDERALLY RECOGNIZED TRIBE: 5% Dextrose, 54\n",
      "ASIAN: D5W, 27\n",
      "BLACK/AFRICAN AMERICAN: Insulin, 60\n",
      "HISPANIC OR LATINO: 5% Dextrose, 28\n",
      "HISPANIC/LATINO - PUERTO RICAN: 0.9% Sodium Chloride, 1290\n",
      "OTHER: NS, 11\n",
      "UNABLE TO OBTAIN: 0.9% Sodium Chloride, 28\n",
      "UNKNOWN/NOT SPECIFIED: D5W, 41\n",
      "WHITE: Potassium Chloride, 508\n"
     ]
    }
   ],
   "source": [
    "r = conn.sql(\"\"\"\n",
    "        SELECT ethnicity, drug AS drug_name, count(*) AS prescriptions\n",
    "        FROM ADMISSIONS LEFT JOIN PRESCRIPTIONS ON ADMISSIONS.subject_id = PRESCRIPTIONS.subject_id\n",
    "        GROUP BY ethnicity, drug_name ORDER BY ethnicity, prescriptions DESC;\n",
    "    \"\"\")\n",
    "df = r.df()\n",
    "df = df.drop_duplicates(subset=['ethnicity'], keep='first').reset_index(drop=True)\n",
    "print(\"Most perscribed drugs by ethnicity:\")\n",
    "for _, row in df.iterrows():\n",
    "    print(f\"{row['ethnicity']}: {row['drug_name']}, {row['prescriptions']}\")\n",
    "\n",
    "df.to_csv(\"q1_sql.csv\")"
   ]
  },
  {
   "cell_type": "markdown",
   "id": "2e5700d1-398e-44c8-8d3c-aca6c2fcb41a",
   "metadata": {},
   "source": [
    "2. Create a summary of procedures performed on patients by age groups (<=19, 20-49, 50-79, >80). Report the top three procedures, along with the name of the procedures, performed in each age group."
   ]
  },
  {
   "cell_type": "code",
   "execution_count": 5,
   "id": "40c231ac-b2da-4b87-9314-9f2b507646b6",
   "metadata": {},
   "outputs": [
    {
     "name": "stdout",
     "output_type": "stream",
     "text": [
      "<=19:\n",
      "Venous cath NEC: 2\n",
      "Temporary tracheostomy: 1\n",
      "Packed cell transfusion: 1\n",
      "Vertebral fx repair: 1\n",
      "Percu endosc gastrostomy: 1\n",
      "Skin closure NEC: 1\n",
      "Closed bronchial biopsy: 1\n",
      "Open reduc-int fix femur: 1\n",
      "Entral infus nutrit sub: 1\n",
      "Fus/refus 2-3 vertebrae: 1\n",
      "Spinal tap: 1\n",
      "Applic ext fix dev-femur: 1\n",
      "Remove imp device-femur: 1\n",
      "Incision of lung: 1\n",
      "Atlas-axis fusion: 1\n",
      "Ot cerv fusion post/post: 1\n",
      "Cl fx reduc-femur: 1\n",
      "Interruption vena cava: 1\n",
      "Other skeletal traction: 1\n",
      "\n",
      "20-49:\n",
      "Venous cath NEC: 9\n",
      "Entral infus nutrit sub: 7\n",
      "Insert endotracheal tube: 6\n",
      "\n",
      "50-79:\n",
      "Venous cath NEC: 26\n",
      "Entral infus nutrit sub: 22\n",
      "Packed cell transfusion: 13\n",
      "\n",
      ">=80:\n",
      "Venous cath NEC: 19\n",
      "Packed cell transfusion: 13\n",
      "Insert endotracheal tube: 8\n",
      "\n"
     ]
    },
    {
     "name": "stderr",
     "output_type": "stream",
     "text": [
      "/tmp/ipykernel_350/1622220919.py:30: FutureWarning: The default of observed=False is deprecated and will be changed to True in a future version of pandas. Pass observed=False to retain current behavior or observed=True to adopt the future default and silence this warning.\n",
      "  for group, df in r.groupby('age_group'):\n"
     ]
    }
   ],
   "source": [
    "procedures = conn.sql(\"\"\"\n",
    "    SELECT PATIENTS.subject_id AS subject_id, short_title, FLOOR((cast(admittime as date) - cast(dob as date)) / 365) AS age\n",
    "    FROM PROCEDURES_ICD JOIN D_ICD_PROCEDURES ON PROCEDURES_ICD.icd9_code = D_ICD_PROCEDURES.icd9_code\n",
    "    JOIN PATIENTS on PROCEDURES_ICD.subject_id = PATIENTS.subject_id\n",
    "    JOIN ADMISSIONS on PROCEDURES_ICD.hadm_id = ADMISSIONS.hadm_id;\n",
    "\"\"\").df()\n",
    "\n",
    "def age_group(age):\n",
    "    if age <= 19:\n",
    "        return \"<=19\"\n",
    "    elif age <= 49:\n",
    "        return \"20-49\"\n",
    "    elif age <= 79:\n",
    "        return \"50-79\"\n",
    "    else:\n",
    "        return \">=80\"\n",
    "\n",
    "procedures['age_group'] = procedures['age'].apply(age_group)\n",
    "procedures.drop(columns=['age'], inplace=True)\n",
    "\n",
    "r = conn.sql(\"\"\"\n",
    "    SELECT age_group, short_title, count(*) AS n_procedures FROM procedures\n",
    "    GROUP BY age_group, short_title ORDER BY age_group, n_procedures DESC;\n",
    "\"\"\").df()\n",
    "\n",
    "# (CAI) custom sort df\n",
    "age_order = [\"<=19\", \"20-49\", \"50-79\", \">=80\"]\n",
    "r['age_group'] = pd.Categorical(r['age_group'], categories=age_order, ordered=True)\n",
    "\n",
    "for group, df in r.groupby('age_group'):\n",
    "    print(f\"{group}:\")\n",
    "    prev = 0\n",
    "    for i, row in df.reset_index(drop=True).iterrows():\n",
    "        print(f\"{row['short_title']}: {row['n_procedures']}\")\n",
    "        if i > 1 and prev != row['n_procedures']:\n",
    "            break\n",
    "        prev = row['n_procedures']\n",
    "    print()\n",
    "\n",
    "r.to_csv(\"q2_sql.csv\")"
   ]
  },
  {
   "cell_type": "markdown",
   "id": "5d068035-77a0-4eb0-bb2a-4226e7bb577e",
   "metadata": {},
   "source": [
    "3. How long do patients stay in the ICU? Is there a difference in the ICU length of stay among gender or ethnicity?"
   ]
  },
  {
   "cell_type": "code",
   "execution_count": 6,
   "id": "be11bab4-66f7-41ef-9725-eee5c39066cf",
   "metadata": {},
   "outputs": [
    {
     "data": {
      "image/png": "[encoded data removed]",
      "text/plain": [
       "<Figure size 640x480 with 2 Axes>"
      ]
     },
     "metadata": {},
     "output_type": "display_data"
    },
    {
     "data": {
      "image/png": "[encoded data removed]",
      "text/plain": [
       "<Figure size 640x480 with 9 Axes>"
      ]
     },
     "metadata": {},
     "output_type": "display_data"
    },
    {
     "name": "stdout",
     "output_type": "stream",
     "text": [
      "\n",
      "\n",
      "\n",
      "Number of patients who were admitted multiple times by gender/ethnicity:\n"
     ]
    },
    {
     "data": {
      "text/plain": [
       "gender  ethnicity                                               \n",
       "M       WHITE                                                       20\n",
       "F       WHITE                                                        8\n",
       "M       HISPANIC/LATINO - PUERTO RICAN                               5\n",
       "F       HISPANIC OR LATINO                                           2\n",
       "M       AMERICAN INDIAN/ALASKA NATIVE FEDERALLY RECOGNIZED TRIBE     2\n",
       "F       UNKNOWN/NOT SPECIFIED                                        1\n",
       "M       BLACK/AFRICAN AMERICAN                                       1\n",
       "Name: count, dtype: int64"
      ]
     },
     "execution_count": 6,
     "metadata": {},
     "output_type": "execute_result"
    }
   ],
   "source": [
    "r = conn.sql(\"\"\"\n",
    "    SELECT ICUSTAYS.subject_id AS subject_id, gender, ethnicity, cast(outtime as date) - cast(intime as date) AS stay_days\n",
    "    FROM ICUSTAYS JOIN ADMISSIONS ON ICUSTAYS.subject_id = ADMISSIONS.subject_id\n",
    "    JOIN PATIENTS ON ICUSTAYS.subject_id = PATIENTS.subject_id ORDER BY subject_id;\n",
    "\"\"\").df()\n",
    "\n",
    "fig, ax = plt.subplots(2)\n",
    "data = r[r['gender'] == 'F']['stay_days']\n",
    "# (CAI) Plot histogram of stay_days in r grouped by gender (modified)\n",
    "ax[0].hist(data, bins=max(data)-min(data), alpha=0.5, label='Female', color='pink')\n",
    "ax[0].legend()\n",
    "plt.title(\"ICU Stay Length by Gender\")\n",
    "data = r[r['gender'] == 'M']['stay_days']\n",
    "ax[1].hist(data, bins=max(data)-min(data), alpha=0.5, label='Male', color='blue')\n",
    "ax[1].legend()\n",
    "plt.xlabel('Stay Days')\n",
    "plt.tight_layout()\n",
    "plt.show()\n",
    "\n",
    "fig, ax = plt.subplots(3,3)\n",
    "\n",
    "for i, group in enumerate(r.groupby('ethnicity')):\n",
    "    ax[i//3, i%3].hist(group[1]['stay_days'], bins=20, alpha=0.5, color='black')\n",
    "    ax[i//3, i%3].set_title(group[0][:22])\n",
    "plt.tight_layout()\n",
    "plt.show()\n",
    "\n",
    "r.to_csv(\"q3_sql.csv\")\n",
    "\n",
    "# Used CAI to understand the duplicated function\n",
    "print(\"\\n\\n\")\n",
    "print(\"Number of patients who were admitted multiple times by gender/ethnicity:\")\n",
    "r[r.duplicated(subset=['subject_id'], keep=False)].drop_duplicates(keep='first')[['gender','ethnicity']].value_counts()"
   ]
  },
  {
   "cell_type": "markdown",
   "id": "f83e29b6-2891-449a-8455-7cf1d5717b14",
   "metadata": {},
   "source": [
    "## Cassandra Tables"
   ]
  },
  {
   "cell_type": "code",
   "execution_count": 7,
   "id": "dc061dfd-b628-4d91-ad7e-dbea54e1f1ec",
   "metadata": {},
   "outputs": [
    {
     "name": "stderr",
     "output_type": "stream",
     "text": [
      "/tmp/ipykernel_350/332746716.py:7: DeprecationWarning: ssl.PROTOCOL_TLSv1_2 is deprecated\n",
      "  ssl_context = SSLContext(PROTOCOL_TLSv1_2)\n"
     ]
    }
   ],
   "source": [
    "from cassandra.cluster import Cluster\n",
    "from ssl import SSLContext, PROTOCOL_TLSv1_2, CERT_REQUIRED\n",
    "from cassandra_sigv4.auth import SigV4AuthProvider\n",
    "import boto3\n",
    "\n",
    "# ssl setup\n",
    "ssl_context = SSLContext(PROTOCOL_TLSv1_2)\n",
    "ssl_context.load_verify_locations('sf-class2-root.crt')  # change your file path for locating the certificate\n",
    "ssl_context.verify_mode = CERT_REQUIRED\n",
    "\n",
    "# boto3 session setup\n",
    "boto_session = boto3.Session(region_name=\"us-east-2\")  # this AWS credentials is specific to `us-east-2` region"
   ]
  },
  {
   "cell_type": "code",
   "execution_count": 8,
   "id": "9a19f151-98aa-46fd-80ad-c25528b12262",
   "metadata": {},
   "outputs": [],
   "source": [
    "# authorization setup with SigV4\n",
    "auth_provider = SigV4AuthProvider(boto_session)"
   ]
  },
  {
   "cell_type": "code",
   "execution_count": 9,
   "id": "1c9ae7c1-572d-4d08-8ec3-ed5a2d025f8b",
   "metadata": {},
   "outputs": [],
   "source": [
    "#cluster setup \n",
    "cluster = Cluster(['cassandra.us-east-2.amazonaws.com'], \n",
    "                  ssl_context=ssl_context, \n",
    "                  auth_provider=auth_provider, \n",
    "                  port=9142)  # TLS only communicates on port 9142"
   ]
  },
  {
   "cell_type": "code",
   "execution_count": 10,
   "id": "bc84c943-78da-47f2-9d26-ea7ac06853d2",
   "metadata": {},
   "outputs": [],
   "source": [
    "session = cluster.connect()"
   ]
  },
  {
   "cell_type": "markdown",
   "id": "a50dc9bc-bf3a-46d0-8b8f-71b452a6cc60",
   "metadata": {},
   "source": [
    "Question 1"
   ]
  },
  {
   "cell_type": "code",
   "execution_count": 13,
   "id": "09d28b41-5959-4fe2-aad3-f5e1246f693f",
   "metadata": {},
   "outputs": [],
   "source": [
    "from cassandra.cluster import ExecutionProfile, EXEC_PROFILE_DEFAULT\n",
    "from cassandra import ConsistencyLevel\n",
    "\n",
    "# Define execution profile with LOCAL_QUORUM\n",
    "execution_profile = ExecutionProfile(\n",
    "    consistency_level=ConsistencyLevel.LOCAL_QUORUM\n",
    ")\n",
    "\n",
    "# Cluster setup with correct profile\n",
    "cluster = Cluster(\n",
    "    ['cassandra.us-east-2.amazonaws.com'],\n",
    "    ssl_context=ssl_context,\n",
    "    auth_provider=auth_provider,\n",
    "    port=9142,\n",
    "    execution_profiles={EXEC_PROFILE_DEFAULT: execution_profile}\n",
    ")\n",
    "\n",
    "# establishing connection to Keyspace\n",
    "session = cluster.connect()"
   ]
  },
  {
   "cell_type": "code",
   "execution_count": 89,
   "id": "260f32f8-77b4-498d-8ded-32b6a69b1c41",
   "metadata": {},
   "outputs": [],
   "source": [
    "session.set_keyspace('ryan_beam')"
   ]
  },
  {
   "cell_type": "code",
   "execution_count": 76,
   "id": "52c23407-01ad-42d2-9d70-f4815f26b1f6",
   "metadata": {},
   "outputs": [
    {
     "data": {
      "text/html": [
       "<div>\n",
       "<style scoped>\n",
       "    .dataframe tbody tr th:only-of-type {\n",
       "        vertical-align: middle;\n",
       "    }\n",
       "\n",
       "    .dataframe tbody tr th {\n",
       "        vertical-align: top;\n",
       "    }\n",
       "\n",
       "    .dataframe thead th {\n",
       "        text-align: right;\n",
       "    }\n",
       "</style>\n",
       "<table border=\"1\" class=\"dataframe\">\n",
       "  <thead>\n",
       "    <tr style=\"text-align: right;\">\n",
       "      <th></th>\n",
       "      <th>ethnicity</th>\n",
       "      <th>drug</th>\n",
       "      <th>prescriptions</th>\n",
       "    </tr>\n",
       "  </thead>\n",
       "  <tbody>\n",
       "    <tr>\n",
       "      <th>805</th>\n",
       "      <td>HISPANIC/LATINO - PUERTO RICAN</td>\n",
       "      <td>0.9% Sodium Chloride</td>\n",
       "      <td>1290</td>\n",
       "    </tr>\n",
       "    <tr>\n",
       "      <th>626</th>\n",
       "      <td>WHITE</td>\n",
       "      <td>Potassium Chloride</td>\n",
       "      <td>508</td>\n",
       "    </tr>\n",
       "    <tr>\n",
       "      <th>122</th>\n",
       "      <td>BLACK/AFRICAN AMERICAN</td>\n",
       "      <td>Insulin</td>\n",
       "      <td>60</td>\n",
       "    </tr>\n",
       "    <tr>\n",
       "      <th>1112</th>\n",
       "      <td>AMERICAN INDIAN/ALASKA NATIVE FEDERALLY RECOGN...</td>\n",
       "      <td>5% Dextrose</td>\n",
       "      <td>54</td>\n",
       "    </tr>\n",
       "    <tr>\n",
       "      <th>971</th>\n",
       "      <td>UNKNOWN/NOT SPECIFIED</td>\n",
       "      <td>D5W</td>\n",
       "      <td>41</td>\n",
       "    </tr>\n",
       "    <tr>\n",
       "      <th>1181</th>\n",
       "      <td>HISPANIC OR LATINO</td>\n",
       "      <td>5% Dextrose</td>\n",
       "      <td>28</td>\n",
       "    </tr>\n",
       "    <tr>\n",
       "      <th>1053</th>\n",
       "      <td>UNABLE TO OBTAIN</td>\n",
       "      <td>0.9% Sodium Chloride</td>\n",
       "      <td>28</td>\n",
       "    </tr>\n",
       "    <tr>\n",
       "      <th>754</th>\n",
       "      <td>ASIAN</td>\n",
       "      <td>D5W</td>\n",
       "      <td>27</td>\n",
       "    </tr>\n",
       "    <tr>\n",
       "      <th>38</th>\n",
       "      <td>OTHER</td>\n",
       "      <td>NS</td>\n",
       "      <td>11</td>\n",
       "    </tr>\n",
       "  </tbody>\n",
       "</table>\n",
       "</div>"
      ],
      "text/plain": [
       "                                              ethnicity                  drug  \\\n",
       "805                      HISPANIC/LATINO - PUERTO RICAN  0.9% Sodium Chloride   \n",
       "626                                               WHITE    Potassium Chloride   \n",
       "122                              BLACK/AFRICAN AMERICAN               Insulin   \n",
       "1112  AMERICAN INDIAN/ALASKA NATIVE FEDERALLY RECOGN...           5% Dextrose   \n",
       "971                               UNKNOWN/NOT SPECIFIED                   D5W   \n",
       "1181                                 HISPANIC OR LATINO           5% Dextrose   \n",
       "1053                                   UNABLE TO OBTAIN  0.9% Sodium Chloride   \n",
       "754                                               ASIAN                   D5W   \n",
       "38                                                OTHER                    NS   \n",
       "\n",
       "      prescriptions  \n",
       "805            1290  \n",
       "626             508  \n",
       "122              60  \n",
       "1112             54  \n",
       "971              41  \n",
       "1181             28  \n",
       "1053             28  \n",
       "754              27  \n",
       "38               11  "
      ]
     },
     "execution_count": 76,
     "metadata": {},
     "output_type": "execute_result"
    }
   ],
   "source": [
    "# session.execute(\"\"\"\n",
    "#     DROP TABLE IF EXISTS q1;\n",
    "# \"\"\")\n",
    "\n",
    "session.execute(\"\"\"\n",
    "    CREATE TABLE IF NOT EXISTS q1 (\n",
    "    ethnicity TEXT,\n",
    "    drug TEXT,\n",
    "    prescriptions INT,\n",
    "    PRIMARY KEY (ethnicity, drug)\n",
    ");\n",
    "\"\"\")\n",
    "\n",
    "r = conn.sql(\"\"\"\n",
    "        SELECT ethnicity, drug, count(*) AS prescriptions\n",
    "        FROM ADMISSIONS LEFT JOIN PRESCRIPTIONS ON ADMISSIONS.subject_id = PRESCRIPTIONS.subject_id\n",
    "        GROUP BY ethnicity, drug ORDER BY ethnicity, prescriptions DESC;\n",
    "    \"\"\").df()\n",
    "\n",
    "r = r.fillna(\"None\")\n",
    "\n",
    "for _, row in r.iterrows():\n",
    "    session.execute(\"\"\"\n",
    "        INSERT INTO q1 (ethnicity, drug, prescriptions)\n",
    "        VALUES (%s, %s, %s);\n",
    "    \"\"\", (row[\"ethnicity\"], row[\"drug\"], row['prescriptions']))\n",
    "\n",
    "import csv\n",
    "rows = session.execute(\"SELECT * FROM q1\")\n",
    "with open(\"q1_cas.csv\", \"w\", newline=\"\") as f:\n",
    "    writer = csv.writer(f)\n",
    "    writer.writerow([\"ethnicity\", \"drug\",\"prescriptions\"])\n",
    "    for row in rows:\n",
    "        writer.writerow([row.ethnicity, row.drug, row.prescriptions])\n",
    "\n",
    "data = pd.read_csv(\"q1_cas.csv\")\n",
    "data = data.sort_values(by=\"prescriptions\", ascending=False)\n",
    "data = data.drop_duplicates(subset=[\"ethnicity\"])\n",
    "data"
   ]
  },
  {
   "cell_type": "code",
   "execution_count": 77,
   "id": "a2f4ea6e-b665-49c2-84a0-af5188e5ed9c",
   "metadata": {},
   "outputs": [],
   "source": [
    "# session.execute(\"\"\"\n",
    "#     DROP TABLE IF EXISTS q2;\n",
    "# \"\"\")\n",
    "\n",
    "session.execute(\"\"\"\n",
    "    CREATE TABLE IF NOT EXISTS q2 (\n",
    "    subject_id TEXT,\n",
    "    short_title TEXT,\n",
    "    age_group TEXT,\n",
    "    PRIMARY KEY (subject_id, short_title)\n",
    ");\n",
    "\"\"\")\n",
    "\n",
    "procedures = conn.sql(\"\"\"\n",
    "    SELECT PATIENTS.subject_id AS subject_id, short_title, FLOOR((cast(admittime as date) - cast(dob as date)) / 365) AS age\n",
    "    FROM PROCEDURES_ICD JOIN D_ICD_PROCEDURES ON PROCEDURES_ICD.icd9_code = D_ICD_PROCEDURES.icd9_code\n",
    "    JOIN PATIENTS on PROCEDURES_ICD.subject_id = PATIENTS.subject_id\n",
    "    JOIN ADMISSIONS on PROCEDURES_ICD.hadm_id = ADMISSIONS.hadm_id;\n",
    "\"\"\").df()\n",
    "\n",
    "def age_group(age):\n",
    "    if age <= 19:\n",
    "        return \"<=19\"\n",
    "    elif age <= 49:\n",
    "        return \"20-49\"\n",
    "    elif age <= 79:\n",
    "        return \"50-79\"\n",
    "    else:\n",
    "        return \">=80\"\n",
    "\n",
    "procedures['age_group'] = procedures['age'].apply(age_group)\n",
    "procedures.drop(columns=['age'], inplace=True)\n",
    "\n",
    "for _, row in procedures.iterrows():\n",
    "    session.execute(\"\"\"\n",
    "        INSERT INTO q2 (subject_id, short_title, age_group)\n",
    "        VALUES (%s, %s, %s);\n",
    "    \"\"\", (str(row[\"subject_id\"]), row[\"short_title\"], row['age_group']))\n",
    "\n",
    "import csv\n",
    "rows = session.execute(\"SELECT * FROM q2\")\n",
    "with open(\"q2_cas.csv\", \"w\", newline=\"\") as f:\n",
    "    writer = csv.writer(f)\n",
    "    writer.writerow([\"subject_id\", \"short_title\",\"age_group\"])\n",
    "    for row in rows:\n",
    "        writer.writerow([row.subject_id, row.short_title, row.age_group])"
   ]
  },
  {
   "cell_type": "code",
   "execution_count": 90,
   "id": "49a8142a-6b51-42b7-a2d6-d915721ea2e3",
   "metadata": {},
   "outputs": [
    {
     "ename": "InvalidRequest",
     "evalue": "Error from server: code=2200 [Invalid query] message=\"unconfigured table ryan_beam.q3\"",
     "output_type": "error",
     "traceback": [
      "\u001b[0;31m---------------------------------------------------------------------------\u001b[0m",
      "\u001b[0;31mInvalidRequest\u001b[0m                            Traceback (most recent call last)",
      "Cell \u001b[0;32mIn[90], line 22\u001b[0m\n\u001b[1;32m     15\u001b[0m r \u001b[38;5;241m=\u001b[39m conn\u001b[38;5;241m.\u001b[39msql(\u001b[38;5;124m\"\"\"\u001b[39m\n\u001b[1;32m     16\u001b[0m \u001b[38;5;124m    SELECT ICUSTAYS.subject_id AS subject_id, gender, ethnicity, cast(outtime as date) - cast(intime as date) AS stay_days\u001b[39m\n\u001b[1;32m     17\u001b[0m \u001b[38;5;124m    FROM ICUSTAYS JOIN ADMISSIONS ON ICUSTAYS.subject_id = ADMISSIONS.subject_id\u001b[39m\n\u001b[1;32m     18\u001b[0m \u001b[38;5;124m    JOIN PATIENTS ON ICUSTAYS.subject_id = PATIENTS.subject_id ORDER BY subject_id;\u001b[39m\n\u001b[1;32m     19\u001b[0m \u001b[38;5;124m\"\"\"\u001b[39m)\u001b[38;5;241m.\u001b[39mdf()\n\u001b[1;32m     21\u001b[0m \u001b[38;5;28;01mfor\u001b[39;00m _, row \u001b[38;5;129;01min\u001b[39;00m r\u001b[38;5;241m.\u001b[39miterrows():\n\u001b[0;32m---> 22\u001b[0m     \u001b[43msession\u001b[49m\u001b[38;5;241;43m.\u001b[39;49m\u001b[43mexecute\u001b[49m\u001b[43m(\u001b[49m\u001b[38;5;124;43m\"\"\"\u001b[39;49m\n\u001b[1;32m     23\u001b[0m \u001b[38;5;124;43m        INSERT INTO q3 (subject_id, gender, ethnicity, stay_days)\u001b[39;49m\n\u001b[1;32m     24\u001b[0m \u001b[38;5;124;43m        VALUES (\u001b[39;49m\u001b[38;5;132;43;01m%s\u001b[39;49;00m\u001b[38;5;124;43m, \u001b[39;49m\u001b[38;5;132;43;01m%s\u001b[39;49;00m\u001b[38;5;124;43m, \u001b[39;49m\u001b[38;5;132;43;01m%s\u001b[39;49;00m\u001b[38;5;124;43m, \u001b[39;49m\u001b[38;5;132;43;01m%s\u001b[39;49;00m\u001b[38;5;124;43m);\u001b[39;49m\n\u001b[1;32m     25\u001b[0m \u001b[38;5;124;43m    \u001b[39;49m\u001b[38;5;124;43m\"\"\"\u001b[39;49m\u001b[43m,\u001b[49m\u001b[43m \u001b[49m\u001b[43m(\u001b[49m\u001b[38;5;28;43mstr\u001b[39;49m\u001b[43m(\u001b[49m\u001b[43mrow\u001b[49m\u001b[43m[\u001b[49m\u001b[38;5;124;43m\"\u001b[39;49m\u001b[38;5;124;43msubject_id\u001b[39;49m\u001b[38;5;124;43m\"\u001b[39;49m\u001b[43m]\u001b[49m\u001b[43m)\u001b[49m\u001b[43m,\u001b[49m\u001b[43m \u001b[49m\u001b[43mrow\u001b[49m\u001b[43m[\u001b[49m\u001b[38;5;124;43m\"\u001b[39;49m\u001b[38;5;124;43mgender\u001b[39;49m\u001b[38;5;124;43m\"\u001b[39;49m\u001b[43m]\u001b[49m\u001b[43m,\u001b[49m\u001b[43m \u001b[49m\u001b[43mrow\u001b[49m\u001b[43m[\u001b[49m\u001b[38;5;124;43m'\u001b[39;49m\u001b[38;5;124;43methnicity\u001b[39;49m\u001b[38;5;124;43m'\u001b[39;49m\u001b[43m]\u001b[49m\u001b[43m,\u001b[49m\u001b[43m \u001b[49m\u001b[38;5;28;43mstr\u001b[39;49m\u001b[43m(\u001b[49m\u001b[43mrow\u001b[49m\u001b[43m[\u001b[49m\u001b[38;5;124;43m'\u001b[39;49m\u001b[38;5;124;43mstay_days\u001b[39;49m\u001b[38;5;124;43m'\u001b[39;49m\u001b[43m]\u001b[49m\u001b[43m)\u001b[49m\u001b[43m)\u001b[49m\u001b[43m)\u001b[49m\n\u001b[1;32m     27\u001b[0m \u001b[38;5;28;01mimport\u001b[39;00m \u001b[38;5;21;01mcsv\u001b[39;00m\n\u001b[1;32m     28\u001b[0m rows \u001b[38;5;241m=\u001b[39m session\u001b[38;5;241m.\u001b[39mexecute(\u001b[38;5;124m\"\u001b[39m\u001b[38;5;124mSELECT * FROM q3\u001b[39m\u001b[38;5;124m\"\u001b[39m)\n",
      "File \u001b[0;32m/opt/conda/lib/python3.11/site-packages/cassandra/cluster.py:2677\u001b[0m, in \u001b[0;36mcassandra.cluster.Session.execute\u001b[0;34m()\u001b[0m\n",
      "File \u001b[0;32m/opt/conda/lib/python3.11/site-packages/cassandra/cluster.py:4956\u001b[0m, in \u001b[0;36mcassandra.cluster.ResponseFuture.result\u001b[0;34m()\u001b[0m\n",
      "\u001b[0;31mInvalidRequest\u001b[0m: Error from server: code=2200 [Invalid query] message=\"unconfigured table ryan_beam.q3\""
     ]
    }
   ],
   "source": [
    "session.execute(\"\"\"\n",
    "    DROP TABLE IF EXISTS q3;\n",
    "\"\"\")\n",
    "\n",
    "session.execute(\"\"\"\n",
    "    CREATE TABLE IF NOT EXISTS q3 (\n",
    "    subject_id TEXT,\n",
    "    gender TEXT,\n",
    "    ethnicity TEXT,\n",
    "    stay_days TEXT,\n",
    "    PRIMARY KEY (subject_id, gender, ethnicity)\n",
    ");\n",
    "\"\"\")\n",
    "\n",
    "r = conn.sql(\"\"\"\n",
    "    SELECT ICUSTAYS.subject_id AS subject_id, gender, ethnicity, cast(outtime as date) - cast(intime as date) AS stay_days\n",
    "    FROM ICUSTAYS JOIN ADMISSIONS ON ICUSTAYS.subject_id = ADMISSIONS.subject_id\n",
    "    JOIN PATIENTS ON ICUSTAYS.subject_id = PATIENTS.subject_id ORDER BY subject_id;\n",
    "\"\"\").df()\n",
    "\n",
    "for _, row in r.iterrows():\n",
    "    session.execute(\"\"\"\n",
    "        INSERT INTO q3 (subject_id, gender, ethnicity, stay_days)\n",
    "        VALUES (%s, %s, %s, %s);\n",
    "    \"\"\", (str(row[\"subject_id\"]), row[\"gender\"], row['ethnicity'], str(row['stay_days'])))\n",
    "\n",
    "import csv\n",
    "rows = session.execute(\"SELECT * FROM q3\")\n",
    "with open(\"q3_cas.csv\", \"w\", newline=\"\") as f:\n",
    "    writer = csv.writer(f)\n",
    "    writer.writerow([\"subject_id\", \"gender\",\"ethnicity\",\"stay_days\"])\n",
    "    for row in rows:\n",
    "        writer.writerow([row.subject_id, row.gender, row.ethnicity, row.stay_days])"
   ]
  },
  {
   "cell_type": "code",
   "execution_count": null,
   "id": "064fad36-51e4-4ce1-b0a9-b62b5c1f564a",
   "metadata": {},
   "outputs": [],
   "source": [
    "conn.close()"
   ]
  }
 ],
 "metadata": {
  "kernelspec": {
   "display_name": "Python 3 (ipykernel)",
   "language": "python",
   "name": "python3"
  },
  "language_info": {
   "codemirror_mode": {
    "name": "ipython",
    "version": 3
   },
   "file_extension": ".py",
   "mimetype": "text/x-python",
   "name": "python",
   "nbconvert_exporter": "python",
   "pygments_lexer": "ipython3",
   "version": "3.11.6"
  }
 },
 "nbformat": 4,
 "nbformat_minor": 5
}
