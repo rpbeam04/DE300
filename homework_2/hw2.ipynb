{
 "cells": [
  {
   "cell_type": "code",
   "execution_count": 1,
   "id": "aece207d-9442-4d2a-ab0a-7f2cd5b327df",
   "metadata": {},
   "outputs": [],
   "source": [
    "#!pip install duckdb"
   ]
  },
  {
   "cell_type": "markdown",
   "id": "31441ed4-d45f-49c8-b3a1-593d85c6ebe8",
   "metadata": {},
   "source": [
    "# Gen AI Disclosure\n",
    "\n",
    "I used Colab autocomplete to generate code from commented prompts where marked (CAI). I used ChatGPT for a little help with some file management commands in the terminal."
   ]
  },
  {
   "cell_type": "code",
   "execution_count": 2,
   "id": "1b578f22-3efe-43df-8506-ab16b7ef30c5",
   "metadata": {},
   "outputs": [],
   "source": [
    "# imports\n",
    "import pandas as pd\n",
    "import numpy as np\n",
    "import matplotlib.pyplot as plt\n",
    "import duckdb"
   ]
  },
  {
   "cell_type": "code",
   "execution_count": 3,
   "id": "31096cf2-fed6-4be0-b14b-b6fbcf4b58d8",
   "metadata": {},
   "outputs": [
    {
     "data": {
      "text/plain": [
       "┌──────────────────┐\n",
       "│       name       │\n",
       "│     varchar      │\n",
       "├──────────────────┤\n",
       "│ ADMISSIONS       │\n",
       "│ DRGCODES         │\n",
       "│ D_ICD_PROCEDURES │\n",
       "│ ICUSTAYS         │\n",
       "│ PATIENTS         │\n",
       "│ PRESCRIPTIONS    │\n",
       "│ PROCEDURES_ICD   │\n",
       "└──────────────────┘"
      ]
     },
     "execution_count": 3,
     "metadata": {},
     "output_type": "execute_result"
    }
   ],
   "source": [
    "# Setting up the database file\n",
    "conn = duckdb.connect('healthcare.duckdb')\n",
    "\n",
    "files = [\"ADMISSIONS.csv\",\"ICUSTAYS.csv\",\"PATIENTS.csv\",\"PROCEDURES_ICD.csv\",\n",
    "         \"D_ICD_PROCEDURES.csv\",\"DRGCODES.csv\",\"PRESCRIPTIONS.csv\"]\n",
    "\n",
    "for file in files:\n",
    "    data = pd.read_csv(f\"Data/{file}\")\n",
    "    # (CAI) Convert Create Table query to import dataframe\n",
    "    conn.sql(f\"\"\"\n",
    "        CREATE TABLE {file.removesuffix(\".csv\")} AS SELECT * FROM data;\n",
    "    \"\"\")\n",
    "\n",
    "conn.sql(\"SHOW TABLES;\")"
   ]
  },
  {
   "cell_type": "markdown",
   "id": "619a39d1-d16d-4f2b-a371-27353a941642",
   "metadata": {},
   "source": [
    "## Analysis Questions"
   ]
  },
  {
   "cell_type": "markdown",
   "id": "26ce42ac-d8e5-44e5-8def-56afc9b8d83f",
   "metadata": {},
   "source": [
    "1. Create a summary of type of drugs and their total amount used by ethnicity. Report the top usage in each ethnicity group. You may have to make certain assumptions in calculating their total amount."
   ]
  },
  {
   "cell_type": "code",
   "execution_count": 4,
   "id": "81148191-a2c6-4663-8cad-6077be57c453",
   "metadata": {},
   "outputs": [],
   "source": [
    "conn.close()"
   ]
  },
  {
   "cell_type": "code",
   "execution_count": null,
   "id": "8921e4dc-fcc0-402a-bff3-cd5b2c827b47",
   "metadata": {},
   "outputs": [],
   "source": []
  }
 ],
 "metadata": {
  "kernelspec": {
   "display_name": "Python 3 (ipykernel)",
   "language": "python",
   "name": "python3"
  },
  "language_info": {
   "codemirror_mode": {
    "name": "ipython",
    "version": 3
   },
   "file_extension": ".py",
   "mimetype": "text/x-python",
   "name": "python",
   "nbconvert_exporter": "python",
   "pygments_lexer": "ipython3",
   "version": "3.11.6"
  }
 },
 "nbformat": 4,
 "nbformat_minor": 5
}
