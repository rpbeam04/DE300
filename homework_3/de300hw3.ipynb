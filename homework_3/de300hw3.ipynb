{
  "nbformat": 4,
  "nbformat_minor": 0,
  "metadata": {
    "colab": {
      "provenance": []
    },
    "kernelspec": {
      "name": "python3",
      "display_name": "Python 3"
    },
    "language_info": {
      "name": "python"
    }
  },
  "cells": [
    {
      "cell_type": "code",
      "execution_count": null,
      "metadata": {
        "colab": {
          "base_uri": "https://localhost:8080/"
        },
        "id": "ReOttrO5ZoPh",
        "outputId": "4e789abc-7e3c-4341-8e10-23e5c5f5733a"
      },
      "outputs": [
        {
          "output_type": "stream",
          "name": "stdout",
          "text": [
            "  % Total    % Received % Xferd  Average Speed   Time    Time     Time  Current\n",
            "                                 Dload  Upload   Total   Spent    Left  Speed\n",
            "100 33.2M  100 33.2M    0     0  1824k      0  0:00:18  0:00:18 --:--:-- 10.1M\n",
            "  % Total    % Received % Xferd  Average Speed   Time    Time     Time  Current\n",
            "                                 Dload  Upload   Total   Spent    Left  Speed\n",
            "100  1391  100  1391    0     0   5952      0 --:--:-- --:--:-- --:--:--  5969\n",
            "  % Total    % Received % Xferd  Average Speed   Time    Time     Time  Current\n",
            "                                 Dload  Upload   Total   Spent    Left  Speed\n",
            "100    22  100    22    0     0     96      0 --:--:-- --:--:-- --:--:--    96\n",
            "  % Total    % Received % Xferd  Average Speed   Time    Time     Time  Current\n",
            "                                 Dload  Upload   Total   Spent    Left  Speed\n",
            "100 61.9M  100 61.9M    0     0  17.7M      0  0:00:03  0:00:03 --:--:-- 17.7M\n"
          ]
        }
      ],
      "source": [
        "!curl https://raw.githubusercontent.com/mosesyhc/de300-2025sp-class/refs/heads/main/agnews_clean.csv -O\n",
        "!curl https://raw.githubusercontent.com/mosesyhc/de300-2025sp-class/refs/heads/main/w.csv -O\n",
        "!curl https://raw.githubusercontent.com/mosesyhc/de300-2025sp-class/refs/heads/main/bias.csv -O\n",
        "!curl https://raw.githubusercontent.com/mosesyhc/de300-2025sp-class/refs/heads/main/data_for_svm.csv -O"
      ]
    },
    {
      "cell_type": "markdown",
      "source": [
        "Gen AI: I used Google Colab to write the source code for this assignment before transferring to JupyterLab. Thus, I used the Colab autocomplete AI to assist with Spark syntax for aggregations and other dataframe functions. I also used ChatGPT to understand how to use user-defined functions better in Spark which helped with step 1 of part 2."
      ],
      "metadata": {
        "id": "pwkCL9an78zY"
      }
    },
    {
      "cell_type": "markdown",
      "source": [
        "## 1. TF-IDF"
      ],
      "metadata": {
        "id": "AGGAStIU9yU7"
      }
    },
    {
      "cell_type": "code",
      "source": [
        "from pyspark.sql import SparkSession\n",
        "\n",
        "spark = (SparkSession.builder\n",
        "         .master(\"local[*]\")\n",
        "         .appName(\"AG news\")\n",
        "         .getOrCreate()\n",
        "        )\n",
        "\n",
        "agnews = spark.read.csv(\"agnews_clean.csv\", inferSchema=True, header=True)\n",
        "\n",
        "# turning the second column from a string to an array\n",
        "import pyspark.sql.functions as F\n",
        "from pyspark.sql.types import ArrayType, StringType\n",
        "agnews = agnews.withColumn('filtered', F.from_json('filtered', ArrayType(StringType())))\n",
        "\n",
        "# each row contains the document id and a list of filtered words\n",
        "agnews.show(5, truncate=30)"
      ],
      "metadata": {
        "id": "ADFTfoSwZ2Y2",
        "colab": {
          "base_uri": "https://localhost:8080/"
        },
        "outputId": "0155078b-2bf7-4285-b689-142000ed29f2"
      },
      "execution_count": null,
      "outputs": [
        {
          "output_type": "stream",
          "name": "stdout",
          "text": [
            "+---+------------------------------+\n",
            "|_c0|                      filtered|\n",
            "+---+------------------------------+\n",
            "|  0|[wall, st, bears, claw, bac...|\n",
            "|  1|[carlyle, looks, toward, co...|\n",
            "|  2|[oil, economy, cloud, stock...|\n",
            "|  3|[iraq, halts, oil, exports,...|\n",
            "|  4|[oil, prices, soar, time, r...|\n",
            "+---+------------------------------+\n",
            "only showing top 5 rows\n",
            "\n"
          ]
        }
      ]
    },
    {
      "cell_type": "code",
      "source": [
        "import pyspark.sql.dataframe as d\n",
        "\n",
        "# Step 1: Map Phase\n",
        "def map(agnews: d.DataFrame):\n",
        "  agnews = agnews.select(F.col(\"_c0\").alias(\"doc\"), F.explode(\"filtered\").alias(\"word\"))\n",
        "  agnews = agnews.groupBy(F.col(\"doc\"), F.col(\"word\"))\n",
        "  return agnews.count().orderBy(F.col(\"doc\"))\n",
        "\n",
        "# Step 2: Reduce Phase\n",
        "def reduce(mapped: d.DataFrame):\n",
        "  n_docs = mapped.select(F.countDistinct(\"doc\")).collect()[0][0]\n",
        "  doclen = mapped.groupBy(\"doc\").agg(F.sum(\"count\").alias(\"doc_length\")) # number of words in each doc\n",
        "\n",
        "  # Calculating TF on word-doc pairs\n",
        "  tf = mapped.join(doclen, on=\"doc\")\n",
        "  tf = tf.withColumn(\"tf\", F.col(\"count\") / F.col(\"doc_length\"))\n",
        "\n",
        "  # Calculating IDF on words\n",
        "  idf = mapped.select(\"word\", \"doc\").distinct().groupBy(\"word\") # rows of docs for each word\n",
        "  idf = idf.agg(F.count(\"*\").alias(\"df\")) # number of docs for each word\n",
        "  idf = idf.withColumn(\"idf\", F.log(F.lit(n_docs) / F.col(\"df\")))\n",
        "\n",
        "  # Final calculation\n",
        "  tfidf = tf.join(idf, on=\"word\", how=\"inner\").withColumn(\"tfidf\", F.col(\"tf\") * F.col(\"idf\"))\n",
        "\n",
        "  return tfidf.select(\"doc\", \"word\", \"tf\", \"idf\", \"tfidf\").orderBy(F.col(\"tf\"))\n"
      ],
      "metadata": {
        "id": "sdm2bfC6PAnt"
      },
      "execution_count": null,
      "outputs": []
    },
    {
      "cell_type": "code",
      "source": [
        "mapped = map(agnews)\n",
        "reduced = reduce(mapped)\n",
        "docs = range(0,5)\n",
        "for doc in docs:\n",
        "  reduced.filter(F.col(\"doc\") == doc).show(truncate=False)"
      ],
      "metadata": {
        "colab": {
          "base_uri": "https://localhost:8080/"
        },
        "id": "m5oZD8-xQwn1",
        "outputId": "6afa8a4e-98db-408c-8dd5-2ae14315c2bd"
      },
      "execution_count": null,
      "outputs": [
        {
          "output_type": "stream",
          "name": "stdout",
          "text": [
            "+---+---------+-------------------+------------------+-------------------+\n",
            "|doc|word     |tf                 |idf               |tfidf              |\n",
            "+---+---------+-------------------+------------------+-------------------+\n",
            "|0  |cynics   |0.05555555555555555|10.147217737458726|0.563734318747707  |\n",
            "|0  |green    |0.05555555555555555|5.17879429217178  |0.2877107940095433 |\n",
            "|0  |ultra    |0.05555555555555555|7.425922309606496 |0.4125512394225831 |\n",
            "|0  |claw     |0.05555555555555555|8.984066927653044 |0.499114829314058  |\n",
            "|0  |back     |0.05555555555555555|3.405989409371903 |0.1892216338539946 |\n",
            "|0  |st       |0.05555555555555555|4.652511556905299 |0.2584728642725166 |\n",
            "|0  |sellers  |0.05555555555555555|8.043083583188519 |0.4468379768438066 |\n",
            "|0  |dwindling|0.05555555555555555|8.230295125276665 |0.4572386180709258 |\n",
            "|0  |band     |0.05555555555555555|6.558158618627001 |0.3643421454792778 |\n",
            "|0  |bears    |0.05555555555555555|6.069680293553007 |0.3372044607529448 |\n",
            "|0  |black    |0.05555555555555555|5.315709109259906 |0.2953171727366614 |\n",
            "|0  |short    |0.05555555555555555|4.991616673112285 |0.2773120373951269 |\n",
            "|0  |seeing   |0.05555555555555555|6.793811019632919 |0.37743394553516213|\n",
            "|0  |street   |0.05555555555555555|4.442102817568746 |0.24678348986493034|\n",
            "|0  |wall     |0.1111111111111111 |4.604386793860288 |0.5115985326511431 |\n",
            "|0  |reuters  |0.1111111111111111 |2.2278615467981093|0.24754017186645658|\n",
            "+---+---------+-------------------+------------------+-------------------+\n",
            "\n",
            "+---+------------+--------------------+-----------------+-------------------+\n",
            "|doc|word        |tf                  |idf              |tfidf              |\n",
            "+---+------------+--------------------+-----------------+-------------------+\n",
            "|1  |industry    |0.037037037037037035|4.061807577508216|0.15043731768548949|\n",
            "|1  |aerospace   |0.037037037037037035|6.96916390711078 |0.2581171817448437 |\n",
            "|1  |toward      |0.037037037037037035|5.127292396455378|0.1898997183872362 |\n",
            "|1  |timed       |0.037037037037037035|8.760923376338836|0.324478643568105  |\n",
            "|1  |investment  |0.037037037037037035|5.1050837763031  |0.1890771769001148 |\n",
            "|1  |commercial  |0.037037037037037035|5.556146475850136|0.2057832028092643 |\n",
            "|1  |reputation  |0.037037037037037035|6.960865104296086|0.2578098186776328 |\n",
            "|1  |group       |0.037037037037037035|3.366387152050256|0.12468100563149095|\n",
            "|1  |plays       |0.037037037037037035|6.052873175236625|0.22418048797172685|\n",
            "|1  |firm        |0.037037037037037035|4.311822376000633|0.15969712503706046|\n",
            "|1  |private     |0.037037037037037035|5.208436547130454|0.1929050573011279 |\n",
            "|1  |market      |0.037037037037037035|3.616631697429906|0.13394932212703356|\n",
            "|1  |occasionally|0.037037037037037035|8.984066927653044|0.33274321954270536|\n",
            "|1  |defense     |0.037037037037037035|4.728454217834822|0.1751279339938823 |\n",
            "|1  |part        |0.037037037037037035|4.325948567346858|0.16022031730914288|\n",
            "|1  |well        |0.037037037037037035|4.604386793860288|0.17053284421704767|\n",
            "|1  |bets        |0.037037037037037035|7.522549145295567|0.27861293130724324|\n",
            "|1  |placed      |0.037037037037037035|6.169406991492577|0.2284965552404658 |\n",
            "|1  |looks       |0.037037037037037035|5.328550377208231|0.1973537176743789 |\n",
            "|1  |quietly     |0.037037037037037035|6.800828592291566|0.25188254045524316|\n",
            "+---+------------+--------------------+-----------------+-------------------+\n",
            "only showing top 20 rows\n",
            "\n",
            "+---+--------+--------------------+------------------+-------------------+\n",
            "|doc|word    |tf                  |idf               |tfidf              |\n",
            "+---+--------+--------------------+------------------+-------------------+\n",
            "|2  |doldrums|0.041666666666666664|9.048605448790616 |0.3770252270329423 |\n",
            "|2  |stocks  |0.041666666666666664|3.5944245844116467|0.14976769101715193|\n",
            "|2  |stock   |0.041666666666666664|4.29100033975877  |0.17879168082328206|\n",
            "|2  |prices  |0.041666666666666664|3.4734142085074025|0.14472559202114177|\n",
            "|2  |summer  |0.041666666666666664|5.44673737166631  |0.22694739048609625|\n",
            "|2  |plus    |0.041666666666666664|5.8677776915599456|0.24449073714833106|\n",
            "|2  |next    |0.041666666666666664|3.3750531127829375|0.14062721303262238|\n",
            "|2  |cloud   |0.041666666666666664|7.08382681543092  |0.295159450642955  |\n",
            "|2  |depth   |0.041666666666666664|7.522549145295567 |0.31343954772064864|\n",
            "|2  |worries |0.041666666666666664|5.522244924174455 |0.23009353850726894|\n",
            "|2  |week    |0.041666666666666664|3.14925619059044  |0.13121900794126834|\n",
            "|2  |hang    |0.041666666666666664|7.31400439340251  |0.30475018305843793|\n",
            "|2  |market  |0.041666666666666664|3.616631697429906 |0.15069298739291276|\n",
            "|2  |earnings|0.041666666666666664|4.302514571746148 |0.1792714404894228 |\n",
            "|2  |crude   |0.041666666666666664|4.733787563810185 |0.197241148492091  |\n",
            "|2  |oil     |0.041666666666666664|3.3379577052256884|0.13908157105107033|\n",
            "|2  |expected|0.041666666666666664|3.8627105116568674|0.16094627131903613|\n",
            "|2  |soaring |0.041666666666666664|6.231202710761043 |0.2596334462817101 |\n",
            "|2  |economy |0.08333333333333333 |4.465680871749845 |0.3721400726458204 |\n",
            "|2  |reuters |0.08333333333333333 |2.2278615467981093|0.18565512889984243|\n",
            "+---+--------+--------------------+------------------+-------------------+\n",
            "only showing top 20 rows\n",
            "\n",
            "+---+--------------+-------------------+------------------+-------------------+\n",
            "|doc|word          |tf                 |idf               |tfidf              |\n",
            "+---+--------------+-------------------+------------------+-------------------+\n",
            "|3  |exports       |0.03571428571428571|6.010452459352673 |0.2146590164054526 |\n",
            "|3  |authorities   |0.03571428571428571|5.08462270443176  |0.18159366801541998|\n",
            "|3  |export        |0.03571428571428571|6.6814818346589995|0.23862435123782139|\n",
            "|3  |infrastructure|0.03571428571428571|6.428779481103246 |0.22959926718225876|\n",
            "|3  |militia       |0.03571428571428571|6.305617196327126 |0.2252006141545402 |\n",
            "|3  |official      |0.03571428571428571|4.241855889404156 |0.15149485319300557|\n",
            "|3  |flows         |0.03571428571428571|7.767671603328552 |0.2774168429760197 |\n",
            "|3  |halts         |0.03571428571428571|7.662311087670726 |0.27365396741681164|\n",
            "|3  |said          |0.03571428571428571|1.8461428324199454|0.06593367258642661|\n",
            "|3  |saturday      |0.03571428571428571|3.4152454384309614|0.12197305137253434|\n",
            "|3  |intelligence  |0.03571428571428571|5.8191194448104   |0.20782569445751425|\n",
            "|3  |rebel         |0.03571428571428571|5.098644604022079 |0.18209445014364567|\n",
            "|3  |halted        |0.03571428571428571|7.161535799758236 |0.2557691357056513 |\n",
            "|3  |showed        |0.03571428571428571|4.881423562616249 |0.1743365558077232 |\n",
            "|3  |strike        |0.03571428571428571|4.875244346250292 |0.17411586950893898|\n",
            "|3  |pipeline      |0.07142857142857142|6.609161173079373 |0.4720829409342409 |\n",
            "|3  |iraq          |0.07142857142857142|3.33333367408666  |0.23809526243476142|\n",
            "|3  |main          |0.07142857142857142|5.108967276329497 |0.36492623402353547|\n",
            "|3  |reuters       |0.07142857142857142|2.2278615467981093|0.15913296762843637|\n",
            "|3  |southern      |0.07142857142857142|4.711750532763456 |0.336553609483104  |\n",
            "+---+--------------+-------------------+------------------+-------------------+\n",
            "only showing top 20 rows\n",
            "\n",
            "+---+------------+-------------------+------------------+-------------------+\n",
            "|doc|word        |tf                 |idf               |tfidf              |\n",
            "+---+------------+-------------------+------------------+-------------------+\n",
            "|4  |posing      |0.03333333333333333|7.767671603328552 |0.2589223867776184 |\n",
            "|4  |present     |0.03333333333333333|6.662905449086065 |0.22209684830286883|\n",
            "|4  |records     |0.03333333333333333|5.9277100322826195|0.19759033440942064|\n",
            "|4  |economy     |0.03333333333333333|4.465680871749845 |0.14885602905832815|\n",
            "|4  |presidential|0.03333333333333333|4.4407721453830415|0.1480257381794347 |\n",
            "|4  |straining   |0.03333333333333333|8.712133212169404 |0.2904044404056468 |\n",
            "|4  |record      |0.03333333333333333|3.698961455077239 |0.1232987151692413 |\n",
            "|4  |soar        |0.03333333333333333|6.920373742941348 |0.2306791247647116 |\n",
            "|4  |elections   |0.03333333333333333|4.80297143902229  |0.16009904796740967|\n",
            "|4  |tearaway    |0.03333333333333333|11.756655649892826|0.3918885216630942 |\n",
            "|4  |months      |0.03333333333333333|4.20075055628148  |0.14002501854271598|\n",
            "|4  |three       |0.03333333333333333|3.0944966882264033|0.10314988960754677|\n",
            "|4  |economic    |0.03333333333333333|4.434805936104471 |0.1478268645368157 |\n",
            "|4  |world       |0.03333333333333333|2.799660337963975 |0.09332201126546583|\n",
            "|4  |time        |0.03333333333333333|3.1870597796835405|0.10623532598945135|\n",
            "|4  |barely      |0.03333333333333333|6.580505917318997 |0.21935019724396657|\n",
            "|4  |toppling    |0.03333333333333333|8.389359819906353 |0.27964532733021175|\n",
            "|4  |wallets     |0.03333333333333333|7.995455534199264 |0.2665151844733088 |\n",
            "|4  |us          |0.06666666666666667|2.5047895310881456|0.1669859687392097 |\n",
            "|4  |prices      |0.06666666666666667|3.4734142085074025|0.23156094723382684|\n",
            "+---+------------+-------------------+------------------+-------------------+\n",
            "only showing top 20 rows\n",
            "\n"
          ]
        }
      ]
    },
    {
      "cell_type": "code",
      "source": [
        "spark.stop()"
      ],
      "metadata": {
        "id": "woW4ADNekDPs"
      },
      "execution_count": null,
      "outputs": []
    },
    {
      "cell_type": "markdown",
      "source": [
        "## 2. SVM Objective Function"
      ],
      "metadata": {
        "id": "z9UV-A2BjLkB"
      }
    },
    {
      "cell_type": "code",
      "source": [
        "spark = (SparkSession.builder\n",
        "         .master(\"local[*]\")\n",
        "         .appName(\"SVM\")\n",
        "         .getOrCreate()\n",
        "        )\n",
        "\n",
        "data_svm = spark.read.csv('data_for_svm.csv', header=None)\n",
        "w = spark.read.csv('w.csv', header=None)\n",
        "bias = spark.read.csv('bias.csv', header=None)\n",
        "\n",
        "w = list(w.first())\n",
        "w = [float(i) for i in w]\n",
        "bias = float(bias.collect()[0][0])"
      ],
      "metadata": {
        "id": "OWKLDleHjCuE"
      },
      "execution_count": null,
      "outputs": []
    },
    {
      "cell_type": "code",
      "source": [
        "from pyspark.sql.types import FloatType\n",
        "\n",
        "# get them all out of spark\n",
        "def xy_terms(data: d.DataFrame, w, b):\n",
        "  # Row-wise calculation of the inside of max() term\n",
        "  def xy_term(*row):\n",
        "    x = [float(x) for x in row[:-1]]\n",
        "    y = float(row[-1])\n",
        "    dot = sum(w[i] * x[i] for i in range(features - 1))\n",
        "    return float(y * (dot + b))\n",
        "\n",
        "  features = len(w)\n",
        "\n",
        "  row_xy = F.udf(xy_term, FloatType())\n",
        "  columns = [F.col(f\"_c{i}\") for i in range(features - 1)]\n",
        "  xy = data.withColumn(\"xy\", row_xy(*columns))\n",
        "\n",
        "  data = data.select(*columns)\n",
        "\n",
        "  # Gen AI: Correct code to extract into a list\n",
        "  return xy.select(\"xy\").rdd.flatMap(lambda x: x).collect()"
      ],
      "metadata": {
        "id": "XDdrGtwF_7JS"
      },
      "execution_count": 32,
      "outputs": []
    },
    {
      "cell_type": "code",
      "source": [
        "def loss_SVM(w, b, data, lam=1):\n",
        "  xy = xy_terms(data, w, b)\n",
        "  return lam*sum(i**2 for i in w) + sum(max(0, 1-i) for i in xy)"
      ],
      "metadata": {
        "id": "vas8ggdZke63"
      },
      "execution_count": 33,
      "outputs": []
    },
    {
      "cell_type": "code",
      "source": [
        "pred = loss_SVM(w, bias, data_svm)\n",
        "\n",
        "import pandas as pd\n",
        "\n",
        "pd.DataFrame(pred, columns=[\"pred_y\"])\n",
        "pd.to_csv(\"predictions.csv\")"
      ],
      "metadata": {
        "id": "KaYaaahOkjTp",
        "colab": {
          "base_uri": "https://localhost:8080/",
          "height": 373
        },
        "outputId": "85ef7a51-d9e0-48c1-d53e-7343547f8019"
      },
      "execution_count": 34,
      "outputs": [
        {
          "output_type": "error",
          "ename": "PythonException",
          "evalue": "\n  An exception was thrown from the Python worker. Please see the stack trace below.\nTraceback (most recent call last):\n  File \"<ipython-input-32-7fd8aa495a70>\", line 9, in xy_term\n  File \"<ipython-input-32-7fd8aa495a70>\", line 9, in <genexpr>\nIndexError: list index out of range\n",
          "traceback": [
            "\u001b[0;31m---------------------------------------------------------------------------\u001b[0m",
            "\u001b[0;31mPythonException\u001b[0m                           Traceback (most recent call last)",
            "\u001b[0;32m<ipython-input-34-7fe313dd853d>\u001b[0m in \u001b[0;36m<cell line: 0>\u001b[0;34m()\u001b[0m\n\u001b[0;32m----> 1\u001b[0;31m \u001b[0mpred\u001b[0m \u001b[0;34m=\u001b[0m \u001b[0mloss_SVM\u001b[0m\u001b[0;34m(\u001b[0m\u001b[0mw\u001b[0m\u001b[0;34m,\u001b[0m \u001b[0mbias\u001b[0m\u001b[0;34m,\u001b[0m \u001b[0mdata_svm\u001b[0m\u001b[0;34m)\u001b[0m\u001b[0;34m\u001b[0m\u001b[0;34m\u001b[0m\u001b[0m\n\u001b[0m",
            "\u001b[0;32m<ipython-input-33-5d28a33a8f46>\u001b[0m in \u001b[0;36mloss_SVM\u001b[0;34m(w, b, data, lam)\u001b[0m\n\u001b[1;32m      1\u001b[0m \u001b[0;32mdef\u001b[0m \u001b[0mloss_SVM\u001b[0m\u001b[0;34m(\u001b[0m\u001b[0mw\u001b[0m\u001b[0;34m,\u001b[0m \u001b[0mb\u001b[0m\u001b[0;34m,\u001b[0m \u001b[0mdata\u001b[0m\u001b[0;34m,\u001b[0m \u001b[0mlam\u001b[0m\u001b[0;34m=\u001b[0m\u001b[0;36m1\u001b[0m\u001b[0;34m)\u001b[0m\u001b[0;34m:\u001b[0m\u001b[0;34m\u001b[0m\u001b[0;34m\u001b[0m\u001b[0m\n\u001b[0;32m----> 2\u001b[0;31m   \u001b[0mxy\u001b[0m \u001b[0;34m=\u001b[0m \u001b[0mxy_terms\u001b[0m\u001b[0;34m(\u001b[0m\u001b[0mdata\u001b[0m\u001b[0;34m,\u001b[0m \u001b[0mw\u001b[0m\u001b[0;34m,\u001b[0m \u001b[0mb\u001b[0m\u001b[0;34m)\u001b[0m\u001b[0;34m\u001b[0m\u001b[0;34m\u001b[0m\u001b[0m\n\u001b[0m\u001b[1;32m      3\u001b[0m   \u001b[0;32mreturn\u001b[0m \u001b[0mlam\u001b[0m\u001b[0;34m*\u001b[0m\u001b[0msum\u001b[0m\u001b[0;34m(\u001b[0m\u001b[0mi\u001b[0m\u001b[0;34m**\u001b[0m\u001b[0;36m2\u001b[0m \u001b[0;32mfor\u001b[0m \u001b[0mi\u001b[0m \u001b[0;32min\u001b[0m \u001b[0mw\u001b[0m\u001b[0;34m)\u001b[0m \u001b[0;34m+\u001b[0m \u001b[0msum\u001b[0m\u001b[0;34m(\u001b[0m\u001b[0mmax\u001b[0m\u001b[0;34m(\u001b[0m\u001b[0;36m0\u001b[0m\u001b[0;34m,\u001b[0m \u001b[0;36m1\u001b[0m\u001b[0;34m-\u001b[0m\u001b[0mi\u001b[0m\u001b[0;34m)\u001b[0m \u001b[0;32mfor\u001b[0m \u001b[0mi\u001b[0m \u001b[0;32min\u001b[0m \u001b[0mxy\u001b[0m\u001b[0;34m)\u001b[0m\u001b[0;34m\u001b[0m\u001b[0;34m\u001b[0m\u001b[0m\n",
            "\u001b[0;32m<ipython-input-32-7fd8aa495a70>\u001b[0m in \u001b[0;36mxy_terms\u001b[0;34m(data, w, b)\u001b[0m\n\u001b[1;32m     19\u001b[0m \u001b[0;34m\u001b[0m\u001b[0m\n\u001b[1;32m     20\u001b[0m   \u001b[0;31m# Gen AI: Correct code to extract into a list\u001b[0m\u001b[0;34m\u001b[0m\u001b[0;34m\u001b[0m\u001b[0m\n\u001b[0;32m---> 21\u001b[0;31m   \u001b[0;32mreturn\u001b[0m \u001b[0mxy\u001b[0m\u001b[0;34m.\u001b[0m\u001b[0mselect\u001b[0m\u001b[0;34m(\u001b[0m\u001b[0;34m\"xy\"\u001b[0m\u001b[0;34m)\u001b[0m\u001b[0;34m.\u001b[0m\u001b[0mrdd\u001b[0m\u001b[0;34m.\u001b[0m\u001b[0mflatMap\u001b[0m\u001b[0;34m(\u001b[0m\u001b[0;32mlambda\u001b[0m \u001b[0mx\u001b[0m\u001b[0;34m:\u001b[0m \u001b[0mx\u001b[0m\u001b[0;34m)\u001b[0m\u001b[0;34m.\u001b[0m\u001b[0mcollect\u001b[0m\u001b[0;34m(\u001b[0m\u001b[0;34m)\u001b[0m\u001b[0;34m\u001b[0m\u001b[0;34m\u001b[0m\u001b[0m\n\u001b[0m",
            "\u001b[0;32m/usr/local/lib/python3.11/dist-packages/pyspark/rdd.py\u001b[0m in \u001b[0;36mcollect\u001b[0;34m(self)\u001b[0m\n\u001b[1;32m   1831\u001b[0m         \u001b[0;32mwith\u001b[0m \u001b[0mSCCallSiteSync\u001b[0m\u001b[0;34m(\u001b[0m\u001b[0mself\u001b[0m\u001b[0;34m.\u001b[0m\u001b[0mcontext\u001b[0m\u001b[0;34m)\u001b[0m\u001b[0;34m:\u001b[0m\u001b[0;34m\u001b[0m\u001b[0;34m\u001b[0m\u001b[0m\n\u001b[1;32m   1832\u001b[0m             \u001b[0;32massert\u001b[0m \u001b[0mself\u001b[0m\u001b[0;34m.\u001b[0m\u001b[0mctx\u001b[0m\u001b[0;34m.\u001b[0m\u001b[0m_jvm\u001b[0m \u001b[0;32mis\u001b[0m \u001b[0;32mnot\u001b[0m \u001b[0;32mNone\u001b[0m\u001b[0;34m\u001b[0m\u001b[0;34m\u001b[0m\u001b[0m\n\u001b[0;32m-> 1833\u001b[0;31m             \u001b[0msock_info\u001b[0m \u001b[0;34m=\u001b[0m \u001b[0mself\u001b[0m\u001b[0;34m.\u001b[0m\u001b[0mctx\u001b[0m\u001b[0;34m.\u001b[0m\u001b[0m_jvm\u001b[0m\u001b[0;34m.\u001b[0m\u001b[0mPythonRDD\u001b[0m\u001b[0;34m.\u001b[0m\u001b[0mcollectAndServe\u001b[0m\u001b[0;34m(\u001b[0m\u001b[0mself\u001b[0m\u001b[0;34m.\u001b[0m\u001b[0m_jrdd\u001b[0m\u001b[0;34m.\u001b[0m\u001b[0mrdd\u001b[0m\u001b[0;34m(\u001b[0m\u001b[0;34m)\u001b[0m\u001b[0;34m)\u001b[0m\u001b[0;34m\u001b[0m\u001b[0;34m\u001b[0m\u001b[0m\n\u001b[0m\u001b[1;32m   1834\u001b[0m         \u001b[0;32mreturn\u001b[0m \u001b[0mlist\u001b[0m\u001b[0;34m(\u001b[0m\u001b[0m_load_from_socket\u001b[0m\u001b[0;34m(\u001b[0m\u001b[0msock_info\u001b[0m\u001b[0;34m,\u001b[0m \u001b[0mself\u001b[0m\u001b[0;34m.\u001b[0m\u001b[0m_jrdd_deserializer\u001b[0m\u001b[0;34m)\u001b[0m\u001b[0;34m)\u001b[0m\u001b[0;34m\u001b[0m\u001b[0;34m\u001b[0m\u001b[0m\n\u001b[1;32m   1835\u001b[0m \u001b[0;34m\u001b[0m\u001b[0m\n",
            "\u001b[0;32m/usr/local/lib/python3.11/dist-packages/py4j/java_gateway.py\u001b[0m in \u001b[0;36m__call__\u001b[0;34m(self, *args)\u001b[0m\n\u001b[1;32m   1320\u001b[0m \u001b[0;34m\u001b[0m\u001b[0m\n\u001b[1;32m   1321\u001b[0m         \u001b[0manswer\u001b[0m \u001b[0;34m=\u001b[0m \u001b[0mself\u001b[0m\u001b[0;34m.\u001b[0m\u001b[0mgateway_client\u001b[0m\u001b[0;34m.\u001b[0m\u001b[0msend_command\u001b[0m\u001b[0;34m(\u001b[0m\u001b[0mcommand\u001b[0m\u001b[0;34m)\u001b[0m\u001b[0;34m\u001b[0m\u001b[0;34m\u001b[0m\u001b[0m\n\u001b[0;32m-> 1322\u001b[0;31m         return_value = get_return_value(\n\u001b[0m\u001b[1;32m   1323\u001b[0m             answer, self.gateway_client, self.target_id, self.name)\n\u001b[1;32m   1324\u001b[0m \u001b[0;34m\u001b[0m\u001b[0m\n",
            "\u001b[0;32m/usr/local/lib/python3.11/dist-packages/pyspark/errors/exceptions/captured.py\u001b[0m in \u001b[0;36mdeco\u001b[0;34m(*a, **kw)\u001b[0m\n\u001b[1;32m    183\u001b[0m                 \u001b[0;31m# Hide where the exception came from that shows a non-Pythonic\u001b[0m\u001b[0;34m\u001b[0m\u001b[0;34m\u001b[0m\u001b[0m\n\u001b[1;32m    184\u001b[0m                 \u001b[0;31m# JVM exception message.\u001b[0m\u001b[0;34m\u001b[0m\u001b[0;34m\u001b[0m\u001b[0m\n\u001b[0;32m--> 185\u001b[0;31m                 \u001b[0;32mraise\u001b[0m \u001b[0mconverted\u001b[0m \u001b[0;32mfrom\u001b[0m \u001b[0;32mNone\u001b[0m\u001b[0;34m\u001b[0m\u001b[0;34m\u001b[0m\u001b[0m\n\u001b[0m\u001b[1;32m    186\u001b[0m             \u001b[0;32melse\u001b[0m\u001b[0;34m:\u001b[0m\u001b[0;34m\u001b[0m\u001b[0;34m\u001b[0m\u001b[0m\n\u001b[1;32m    187\u001b[0m                 \u001b[0;32mraise\u001b[0m\u001b[0;34m\u001b[0m\u001b[0;34m\u001b[0m\u001b[0m\n",
            "\u001b[0;31mPythonException\u001b[0m: \n  An exception was thrown from the Python worker. Please see the stack trace below.\nTraceback (most recent call last):\n  File \"<ipython-input-32-7fd8aa495a70>\", line 9, in xy_term\n  File \"<ipython-input-32-7fd8aa495a70>\", line 9, in <genexpr>\nIndexError: list index out of range\n"
          ]
        }
      ]
    },
    {
      "cell_type": "code",
      "source": [
        "spark.stop()"
      ],
      "metadata": {
        "id": "PiuAW_pGCsKb"
      },
      "execution_count": 35,
      "outputs": []
    },
    {
      "cell_type": "code",
      "source": [],
      "metadata": {
        "id": "twjJLwY2GTY0"
      },
      "execution_count": null,
      "outputs": []
    }
  ]
}