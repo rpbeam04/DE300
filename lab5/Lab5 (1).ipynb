{
  "cells": [
    {
      "cell_type": "markdown",
      "id": "8ff781e6-0c0f-45da-a6ac-cbdc74b3765b",
      "metadata": {
        "id": "8ff781e6-0c0f-45da-a6ac-cbdc74b3765b"
      },
      "source": [
        "## High-Level ETL (Extract - Transform - Load) Flow\n",
        "**Goal**: By the end of this tutorial, you will be able to\n",
        "- Extract: Download a file from AWS S3 using Python’s boto3.\n",
        "- Transform: Clean, filter, or manipulate data in Python (often using libraries like pandas).\n",
        "- Load: Insert the transformed data into a relational database via SQL statements."
      ]
    },
    {
      "cell_type": "markdown",
      "id": "24d4c364-5538-4205-bc71-4a9e631eeefc",
      "metadata": {
        "id": "24d4c364-5538-4205-bc71-4a9e631eeefc"
      },
      "source": [
        "## Lab Assignment\n",
        "\n",
        "1. Implement the following functions\n",
        "   - `extract_from_csv(file_to_process: str) -> pd.DataFrame`: read the .csv file and return dataframe\n",
        "   - `extract_from_json(file_to_process: str) -> pd.DataFrame`: read the .json file and return dataframe\n",
        "   - `extract() -> pd.DataFrame`: extract data of heterogeneous format and combine them into a single dataframe.\n",
        "   - `transform(df) -> pd.DataFrame`: function for data cleaning and manipulation.\n",
        "2. Clean the data\n",
        "   - Round float-type columns to two decimal places.\n",
        "   - remove duplicate samples\n",
        "   - Save the cleaned data into parquet file\n",
        "3. Insert the data into SQL\n",
        "   - Create postgresql database\n",
        "   - Insert the data into the database\n",
        "  \n",
        "Submission requirement:\n",
        "    1. Jupyter Notebook\n",
        "    2. Parquet File\n",
        "    3. SQL file (optional)"
      ]
    },
    {
      "cell_type": "code",
      "source": [
        "!pip install boto3"
      ],
      "metadata": {
        "colab": {
          "base_uri": "https://localhost:8080/"
        },
        "id": "naLKtp7TJzZj",
        "outputId": "b3174ba9-0c56-4252-bec5-108c967ae063"
      },
      "id": "naLKtp7TJzZj",
      "execution_count": 4,
      "outputs": [
        {
          "output_type": "stream",
          "name": "stdout",
          "text": [
            "Collecting boto3\n",
            "  Downloading boto3-1.38.12-py3-none-any.whl.metadata (6.6 kB)\n",
            "Collecting botocore<1.39.0,>=1.38.12 (from boto3)\n",
            "  Downloading botocore-1.38.12-py3-none-any.whl.metadata (5.7 kB)\n",
            "Collecting jmespath<2.0.0,>=0.7.1 (from boto3)\n",
            "  Downloading jmespath-1.0.1-py3-none-any.whl.metadata (7.6 kB)\n",
            "Collecting s3transfer<0.13.0,>=0.12.0 (from boto3)\n",
            "  Downloading s3transfer-0.12.0-py3-none-any.whl.metadata (1.7 kB)\n",
            "Requirement already satisfied: python-dateutil<3.0.0,>=2.1 in /usr/local/lib/python3.11/dist-packages (from botocore<1.39.0,>=1.38.12->boto3) (2.9.0.post0)\n",
            "Requirement already satisfied: urllib3!=2.2.0,<3,>=1.25.4 in /usr/local/lib/python3.11/dist-packages (from botocore<1.39.0,>=1.38.12->boto3) (2.4.0)\n",
            "Requirement already satisfied: six>=1.5 in /usr/local/lib/python3.11/dist-packages (from python-dateutil<3.0.0,>=2.1->botocore<1.39.0,>=1.38.12->boto3) (1.17.0)\n",
            "Downloading boto3-1.38.12-py3-none-any.whl (139 kB)\n",
            "\u001b[2K   \u001b[90m━━━━━━━━━━━━━━━━━━━━━━━━━━━━━━━━━━━━━━━━\u001b[0m \u001b[32m139.9/139.9 kB\u001b[0m \u001b[31m5.3 MB/s\u001b[0m eta \u001b[36m0:00:00\u001b[0m\n",
            "\u001b[?25hDownloading botocore-1.38.12-py3-none-any.whl (13.5 MB)\n",
            "\u001b[2K   \u001b[90m━━━━━━━━━━━━━━━━━━━━━━━━━━━━━━━━━━━━━━━━\u001b[0m \u001b[32m13.5/13.5 MB\u001b[0m \u001b[31m82.7 MB/s\u001b[0m eta \u001b[36m0:00:00\u001b[0m\n",
            "\u001b[?25hDownloading jmespath-1.0.1-py3-none-any.whl (20 kB)\n",
            "Downloading s3transfer-0.12.0-py3-none-any.whl (84 kB)\n",
            "\u001b[2K   \u001b[90m━━━━━━━━━━━━━━━━━━━━━━━━━━━━━━━━━━━━━━━━\u001b[0m \u001b[32m84.8/84.8 kB\u001b[0m \u001b[31m6.9 MB/s\u001b[0m eta \u001b[36m0:00:00\u001b[0m\n",
            "\u001b[?25hInstalling collected packages: jmespath, botocore, s3transfer, boto3\n",
            "Successfully installed boto3-1.38.12 botocore-1.38.12 jmespath-1.0.1 s3transfer-0.12.0\n"
          ]
        }
      ]
    },
    {
      "cell_type": "code",
      "execution_count": 15,
      "id": "a9594048-5e1f-4138-b202-30eabce92d06",
      "metadata": {
        "id": "a9594048-5e1f-4138-b202-30eabce92d06"
      },
      "outputs": [],
      "source": [
        "# Required Package:\n",
        "# psycopg2 2.9.10 (A PostgreSQL database adapter)\n",
        "# pandas 2.0.3 (For data manipulation and analysis)\n",
        "# sqlalchemy 2.0.37 (A SQL toolkit and Object Relational Mapper)\n",
        "# pyarrow 14.0.1 (Provides support for efficient in-memory columnar data structures, part from Apache Arrow Objective)\n",
        "import pandas as pd\n",
        "\n",
        "#required for reading .xml files\n",
        "import xml.etree.ElementTree as ET\n",
        "\n",
        "#required for navigating machine's directory\n",
        "import glob\n",
        "import os.path\n",
        "\n",
        "#required for communicating with SQL database\n",
        "from sqlalchemy import create_engine"
      ]
    },
    {
      "cell_type": "markdown",
      "id": "b26ea5ad-4aa4-4d75-8cca-41de1e7454f3",
      "metadata": {
        "id": "b26ea5ad-4aa4-4d75-8cca-41de1e7454f3"
      },
      "source": [
        "# E: Extracting data from multiple sources"
      ]
    },
    {
      "cell_type": "code",
      "execution_count": 12,
      "id": "5964aa80-e1d5-42bf-8159-6ad91273a192",
      "metadata": {
        "id": "5964aa80-e1d5-42bf-8159-6ad91273a192"
      },
      "outputs": [],
      "source": [
        "import boto3\n",
        "import os\n",
        "\n",
        "with open('credentials','r') as f:\n",
        "  f = f.read().split('\\n')\n",
        "  my_aws_access_key_id=f[1].strip().split('=')[1]\n",
        "  my_aws_secret_access_key=f[2].strip().split('=')[1]\n",
        "  my_aws_session_token= f[3].strip().split('=')[1]\n",
        "\n",
        "BUCKET_NAME = 'de300spring2025'   # Replace with your bucket name\n",
        "S3_FOLDER = 'dinglin_xia/lab4_data/'             # The folder path in S3\n",
        "LOCAL_DIR = './local-data/'      # Local directory to save files"
      ]
    },
    {
      "cell_type": "code",
      "execution_count": 13,
      "id": "f3161fa0-3999-4aff-a1e8-e0f364fd5593",
      "metadata": {
        "id": "f3161fa0-3999-4aff-a1e8-e0f364fd5593"
      },
      "outputs": [],
      "source": [
        "def download_s3_folder(bucket_name, s3_folder, local_dir):\n",
        "    \"\"\"Download a folder from S3.\"\"\"\n",
        "    if not os.path.exists(local_dir):\n",
        "        os.makedirs(local_dir)\n",
        "\n",
        "    # List objects within the specified folder\n",
        "    s3_resource = boto3.resource('s3',\n",
        "                                aws_access_key_id=my_aws_access_key_id,\n",
        "                                aws_secret_access_key=my_aws_secret_access_key,\n",
        "                                aws_session_token=my_aws_session_token)\n",
        "    bucket = s3_resource.Bucket(bucket_name)\n",
        "\n",
        "    for obj in bucket.objects.filter(Prefix=s3_folder):\n",
        "        # Define local file path\n",
        "        local_file_path = os.path.join(local_dir, obj.key[len(s3_folder):])\n",
        "\n",
        "        if obj.key.endswith('/'):  # Skip folders\n",
        "            continue\n",
        "\n",
        "        # Create local directory if needed\n",
        "        local_file_dir = os.path.dirname(local_file_path)\n",
        "        if not os.path.exists(local_file_dir):\n",
        "            os.makedirs(local_file_dir)\n",
        "\n",
        "        # Download the file\n",
        "        bucket.download_file(obj.key, local_file_path)\n",
        "        print(f\"Downloaded {obj.key} to {local_file_path}\")"
      ]
    },
    {
      "cell_type": "code",
      "execution_count": 14,
      "id": "ca57a83a-ceb6-4cb8-9101-75426a5728f4",
      "metadata": {
        "colab": {
          "base_uri": "https://localhost:8080/"
        },
        "id": "ca57a83a-ceb6-4cb8-9101-75426a5728f4",
        "outputId": "eeb5dbf2-3430-4705-b177-e53f66e3ab73"
      },
      "outputs": [
        {
          "output_type": "stream",
          "name": "stdout",
          "text": [
            "Downloaded dinglin_xia/lab4_data/used_car_prices1.csv to ./local-data/used_car_prices1.csv\n",
            "Downloaded dinglin_xia/lab4_data/used_car_prices1.json to ./local-data/used_car_prices1.json\n",
            "Downloaded dinglin_xia/lab4_data/used_car_prices1.xml to ./local-data/used_car_prices1.xml\n",
            "Downloaded dinglin_xia/lab4_data/used_car_prices2.csv to ./local-data/used_car_prices2.csv\n",
            "Downloaded dinglin_xia/lab4_data/used_car_prices2.json to ./local-data/used_car_prices2.json\n",
            "Downloaded dinglin_xia/lab4_data/used_car_prices2.xml to ./local-data/used_car_prices2.xml\n",
            "Downloaded dinglin_xia/lab4_data/used_car_prices3.csv to ./local-data/used_car_prices3.csv\n",
            "Downloaded dinglin_xia/lab4_data/used_car_prices3.json to ./local-data/used_car_prices3.json\n",
            "Downloaded dinglin_xia/lab4_data/used_car_prices3.xml to ./local-data/used_car_prices3.xml\n"
          ]
        }
      ],
      "source": [
        "download_s3_folder(BUCKET_NAME, S3_FOLDER, LOCAL_DIR)"
      ]
    },
    {
      "cell_type": "markdown",
      "id": "b14027a8-8a6d-4566-93ba-710e68b97f3e",
      "metadata": {
        "id": "b14027a8-8a6d-4566-93ba-710e68b97f3e"
      },
      "source": [
        "## Extract data from ./data/ folder"
      ]
    },
    {
      "cell_type": "code",
      "execution_count": 17,
      "id": "03b2bdcb-fb78-419c-a3e9-9f12ee8f2b65",
      "metadata": {
        "colab": {
          "base_uri": "https://localhost:8080/"
        },
        "id": "03b2bdcb-fb78-419c-a3e9-9f12ee8f2b65",
        "outputId": "bfa79d6e-3c30-4bdc-f36c-4fd69f8edd8e"
      },
      "outputs": [
        {
          "output_type": "stream",
          "name": "stdout",
          "text": [
            "./local-data/used_car_prices1.xml\n",
            "./local-data/used_car_prices3.json\n",
            "./local-data/used_car_prices1.json\n",
            "./local-data/used_car_prices3.xml\n",
            "./local-data/used_car_prices1.csv\n",
            "./local-data/used_car_prices3.csv\n",
            "./local-data/used_car_prices2.csv\n",
            "./local-data/used_car_prices2.xml\n",
            "./local-data/used_car_prices2.json\n"
          ]
        }
      ],
      "source": [
        "all_files = glob.glob('./local-data/*')\n",
        "\n",
        "# Output the list of files\n",
        "for file in all_files:\n",
        "    print(file)"
      ]
    },
    {
      "cell_type": "markdown",
      "id": "7c30b5a8-7206-4a8c-8837-b42ab76115fb",
      "metadata": {
        "id": "7c30b5a8-7206-4a8c-8837-b42ab76115fb"
      },
      "source": [
        "### Function to extract data from one .csv file"
      ]
    },
    {
      "cell_type": "code",
      "execution_count": 18,
      "id": "3ac06a7b-ea5d-4410-b0b3-be9db100d2bb",
      "metadata": {
        "id": "3ac06a7b-ea5d-4410-b0b3-be9db100d2bb"
      },
      "outputs": [],
      "source": [
        "def extract_from_csv(file_to_process: str) -> pd.DataFrame:\n",
        "    if not file_to_process.endswith('.csv'):\n",
        "        raise ValueError(\"Input file must be a CSV file.\")\n",
        "    df = pd.read_csv(file_to_process)\n",
        "    return df\n",
        "    # add you line here to read the .csv file and return dataframe"
      ]
    },
    {
      "cell_type": "markdown",
      "id": "7051e6b2-6f3a-4b2c-9ff4-1e10a91a296e",
      "metadata": {
        "id": "7051e6b2-6f3a-4b2c-9ff4-1e10a91a296e"
      },
      "source": [
        "### Function to extract data from one .json file"
      ]
    },
    {
      "cell_type": "code",
      "execution_count": 19,
      "id": "31b19053-3d8a-4386-82d9-5a7b287d37db",
      "metadata": {
        "id": "31b19053-3d8a-4386-82d9-5a7b287d37db"
      },
      "outputs": [],
      "source": [
        "def extract_from_json(file_to_process: str) -> pd.DataFrame:\n",
        "    if not file_to_process.endswith('.json'):\n",
        "        raise ValueError(\"Input file must be a JSON file.\")\n",
        "    df = pd.read_json(file_to_process, lines=True)\n",
        "    return df\n",
        "    # add you line here to read the .json file and return dataframe"
      ]
    },
    {
      "cell_type": "markdown",
      "id": "072dfa48-6805-451e-9d0f-eb09de70e9b1",
      "metadata": {
        "id": "072dfa48-6805-451e-9d0f-eb09de70e9b1"
      },
      "source": [
        "### Function to extract data from one  .xml file"
      ]
    },
    {
      "cell_type": "code",
      "execution_count": 20,
      "id": "5f6bd897-d626-43f3-9980-e3c1e0e27ea3",
      "metadata": {
        "id": "5f6bd897-d626-43f3-9980-e3c1e0e27ea3"
      },
      "outputs": [],
      "source": [
        "def extract_from_xml(file_to_process: str) -> pd.DataFrame:\n",
        "    dataframe = pd.DataFrame(columns = columns)\n",
        "    tree = ET.parse(file_to_process)\n",
        "    root = tree.getroot()\n",
        "    for person in root:\n",
        "        car_model = person.find(\"car_model\").text\n",
        "        year_of_manufacture = int(person.find(\"year_of_manufacture\").text)\n",
        "        price = float(person.find(\"price\").text)\n",
        "        fuel = person.find(\"fuel\").text\n",
        "        sample = pd.DataFrame({\"car_model\":car_model, \"year_of_manufacture\":year_of_manufacture, \"price\":price, \"fuel\":fuel}, index = [0])\n",
        "        dataframe = pd.concat([dataframe, sample], ignore_index=True)\n",
        "    return dataframe"
      ]
    },
    {
      "cell_type": "markdown",
      "id": "d1e2e693-0d74-4e9e-92e1-395119aab10e",
      "metadata": {
        "id": "d1e2e693-0d74-4e9e-92e1-395119aab10e"
      },
      "source": [
        "### Function to extract data from the ./data/ folder"
      ]
    },
    {
      "cell_type": "code",
      "execution_count": 21,
      "id": "7fbc266d-1ef2-49bb-8784-4a8ccbffd038",
      "metadata": {
        "id": "7fbc266d-1ef2-49bb-8784-4a8ccbffd038"
      },
      "outputs": [],
      "source": [
        "def extract() -> pd.DataFrame:\n",
        "    extracted_data = pd.DataFrame(columns = columns)\n",
        "    #for csv files\n",
        "    for csv_file in glob.glob(os.path.join(folder, \"*.csv\")):\n",
        "        extracted_data = pd.concat([extracted_data, extract_from_csv(csv_file)], ignore_index=True)\n",
        "\n",
        "    #add lines for json files\n",
        "    for json_file in glob.glob(os.path.join(folder, \"*.json\")):\n",
        "        extracted_data = pd.concat([extracted_data, extract_from_json(json_file)], ignore_index=True)\n",
        "\n",
        "    #add lines for xml files\n",
        "    for xml_file in glob.glob(os.path.join(folder, \"*.xml\")):\n",
        "        extracted_data = pd.concat([extracted_data, extract_from_xml(xml_file)], ignore_index=True)\n",
        "\n",
        "    return extracted_data"
      ]
    },
    {
      "cell_type": "markdown",
      "id": "81cafa18-245e-4e2c-a63b-6854eb93b863",
      "metadata": {
        "id": "81cafa18-245e-4e2c-a63b-6854eb93b863"
      },
      "source": [
        "### Extract the data"
      ]
    },
    {
      "cell_type": "code",
      "execution_count": 24,
      "id": "6a70a8ce-348f-4b26-8a9a-3ead42565c74",
      "metadata": {
        "colab": {
          "base_uri": "https://localhost:8080/"
        },
        "id": "6a70a8ce-348f-4b26-8a9a-3ead42565c74",
        "outputId": "ab0a7d19-17a1-42e1-fe87-c498615e4a19"
      },
      "outputs": [
        {
          "output_type": "stream",
          "name": "stderr",
          "text": [
            "<ipython-input-21-712d11fb52a9>:5: FutureWarning: The behavior of DataFrame concatenation with empty or all-NA entries is deprecated. In a future version, this will no longer exclude empty or all-NA columns when determining the result dtypes. To retain the old behavior, exclude the relevant entries before the concat operation.\n",
            "  extracted_data = pd.concat([extracted_data, extract_from_csv(csv_file)], ignore_index=True)\n",
            "<ipython-input-20-fe1af346ce10>:11: FutureWarning: The behavior of DataFrame concatenation with empty or all-NA entries is deprecated. In a future version, this will no longer exclude empty or all-NA columns when determining the result dtypes. To retain the old behavior, exclude the relevant entries before the concat operation.\n",
            "  dataframe = pd.concat([dataframe, sample], ignore_index=True)\n",
            "<ipython-input-20-fe1af346ce10>:11: FutureWarning: The behavior of DataFrame concatenation with empty or all-NA entries is deprecated. In a future version, this will no longer exclude empty or all-NA columns when determining the result dtypes. To retain the old behavior, exclude the relevant entries before the concat operation.\n",
            "  dataframe = pd.concat([dataframe, sample], ignore_index=True)\n",
            "<ipython-input-20-fe1af346ce10>:11: FutureWarning: The behavior of DataFrame concatenation with empty or all-NA entries is deprecated. In a future version, this will no longer exclude empty or all-NA columns when determining the result dtypes. To retain the old behavior, exclude the relevant entries before the concat operation.\n",
            "  dataframe = pd.concat([dataframe, sample], ignore_index=True)\n"
          ]
        }
      ],
      "source": [
        "columns = ['car_model','year_of_manufacture','price', 'fuel']\n",
        "folder = \"local-data\"\n",
        "#table_name = \"car_data\"\n",
        "\n",
        "# run\n",
        "def main():\n",
        "    data = extract()\n",
        "    #insert_to_table(data, \"car_data\")\n",
        "\n",
        "    return data\n",
        "\n",
        "data = main()"
      ]
    },
    {
      "cell_type": "code",
      "execution_count": 25,
      "id": "5b1288a8-86fb-498c-833a-682ecd9c1eb6",
      "metadata": {
        "colab": {
          "base_uri": "https://localhost:8080/",
          "height": 206
        },
        "id": "5b1288a8-86fb-498c-833a-682ecd9c1eb6",
        "outputId": "2ac40808-ddc2-4132-d6ab-bd43fe5330c8"
      },
      "outputs": [
        {
          "output_type": "execute_result",
          "data": {
            "text/plain": [
              "  car_model year_of_manufacture         price    fuel\n",
              "0      ritz                2014   5000.000000  Petrol\n",
              "1       sx4                2013   7089.552239  Diesel\n",
              "2      ciaz                2017  10820.895522  Petrol\n",
              "3   wagon r                2011   4253.731343  Petrol\n",
              "4     swift                2014   6865.671642  Diesel"
            ],
            "text/html": [
              "\n",
              "  <div id=\"df-cf319184-58de-4264-8ce0-61f4d407b923\" class=\"colab-df-container\">\n",
              "    <div>\n",
              "<style scoped>\n",
              "    .dataframe tbody tr th:only-of-type {\n",
              "        vertical-align: middle;\n",
              "    }\n",
              "\n",
              "    .dataframe tbody tr th {\n",
              "        vertical-align: top;\n",
              "    }\n",
              "\n",
              "    .dataframe thead th {\n",
              "        text-align: right;\n",
              "    }\n",
              "</style>\n",
              "<table border=\"1\" class=\"dataframe\">\n",
              "  <thead>\n",
              "    <tr style=\"text-align: right;\">\n",
              "      <th></th>\n",
              "      <th>car_model</th>\n",
              "      <th>year_of_manufacture</th>\n",
              "      <th>price</th>\n",
              "      <th>fuel</th>\n",
              "    </tr>\n",
              "  </thead>\n",
              "  <tbody>\n",
              "    <tr>\n",
              "      <th>0</th>\n",
              "      <td>ritz</td>\n",
              "      <td>2014</td>\n",
              "      <td>5000.000000</td>\n",
              "      <td>Petrol</td>\n",
              "    </tr>\n",
              "    <tr>\n",
              "      <th>1</th>\n",
              "      <td>sx4</td>\n",
              "      <td>2013</td>\n",
              "      <td>7089.552239</td>\n",
              "      <td>Diesel</td>\n",
              "    </tr>\n",
              "    <tr>\n",
              "      <th>2</th>\n",
              "      <td>ciaz</td>\n",
              "      <td>2017</td>\n",
              "      <td>10820.895522</td>\n",
              "      <td>Petrol</td>\n",
              "    </tr>\n",
              "    <tr>\n",
              "      <th>3</th>\n",
              "      <td>wagon r</td>\n",
              "      <td>2011</td>\n",
              "      <td>4253.731343</td>\n",
              "      <td>Petrol</td>\n",
              "    </tr>\n",
              "    <tr>\n",
              "      <th>4</th>\n",
              "      <td>swift</td>\n",
              "      <td>2014</td>\n",
              "      <td>6865.671642</td>\n",
              "      <td>Diesel</td>\n",
              "    </tr>\n",
              "  </tbody>\n",
              "</table>\n",
              "</div>\n",
              "    <div class=\"colab-df-buttons\">\n",
              "\n",
              "  <div class=\"colab-df-container\">\n",
              "    <button class=\"colab-df-convert\" onclick=\"convertToInteractive('df-cf319184-58de-4264-8ce0-61f4d407b923')\"\n",
              "            title=\"Convert this dataframe to an interactive table.\"\n",
              "            style=\"display:none;\">\n",
              "\n",
              "  <svg xmlns=\"http://www.w3.org/2000/svg\" height=\"24px\" viewBox=\"0 -960 960 960\">\n",
              "    <path d=\"M120-120v-720h720v720H120Zm60-500h600v-160H180v160Zm220 220h160v-160H400v160Zm0 220h160v-160H400v160ZM180-400h160v-160H180v160Zm440 0h160v-160H620v160ZM180-180h160v-160H180v160Zm440 0h160v-160H620v160Z\"/>\n",
              "  </svg>\n",
              "    </button>\n",
              "\n",
              "  <style>\n",
              "    .colab-df-container {\n",
              "      display:flex;\n",
              "      gap: 12px;\n",
              "    }\n",
              "\n",
              "    .colab-df-convert {\n",
              "      background-color: #E8F0FE;\n",
              "      border: none;\n",
              "      border-radius: 50%;\n",
              "      cursor: pointer;\n",
              "      display: none;\n",
              "      fill: #1967D2;\n",
              "      height: 32px;\n",
              "      padding: 0 0 0 0;\n",
              "      width: 32px;\n",
              "    }\n",
              "\n",
              "    .colab-df-convert:hover {\n",
              "      background-color: #E2EBFA;\n",
              "      box-shadow: 0px 1px 2px rgba(60, 64, 67, 0.3), 0px 1px 3px 1px rgba(60, 64, 67, 0.15);\n",
              "      fill: #174EA6;\n",
              "    }\n",
              "\n",
              "    .colab-df-buttons div {\n",
              "      margin-bottom: 4px;\n",
              "    }\n",
              "\n",
              "    [theme=dark] .colab-df-convert {\n",
              "      background-color: #3B4455;\n",
              "      fill: #D2E3FC;\n",
              "    }\n",
              "\n",
              "    [theme=dark] .colab-df-convert:hover {\n",
              "      background-color: #434B5C;\n",
              "      box-shadow: 0px 1px 3px 1px rgba(0, 0, 0, 0.15);\n",
              "      filter: drop-shadow(0px 1px 2px rgba(0, 0, 0, 0.3));\n",
              "      fill: #FFFFFF;\n",
              "    }\n",
              "  </style>\n",
              "\n",
              "    <script>\n",
              "      const buttonEl =\n",
              "        document.querySelector('#df-cf319184-58de-4264-8ce0-61f4d407b923 button.colab-df-convert');\n",
              "      buttonEl.style.display =\n",
              "        google.colab.kernel.accessAllowed ? 'block' : 'none';\n",
              "\n",
              "      async function convertToInteractive(key) {\n",
              "        const element = document.querySelector('#df-cf319184-58de-4264-8ce0-61f4d407b923');\n",
              "        const dataTable =\n",
              "          await google.colab.kernel.invokeFunction('convertToInteractive',\n",
              "                                                    [key], {});\n",
              "        if (!dataTable) return;\n",
              "\n",
              "        const docLinkHtml = 'Like what you see? Visit the ' +\n",
              "          '<a target=\"_blank\" href=https://colab.research.google.com/notebooks/data_table.ipynb>data table notebook</a>'\n",
              "          + ' to learn more about interactive tables.';\n",
              "        element.innerHTML = '';\n",
              "        dataTable['output_type'] = 'display_data';\n",
              "        await google.colab.output.renderOutput(dataTable, element);\n",
              "        const docLink = document.createElement('div');\n",
              "        docLink.innerHTML = docLinkHtml;\n",
              "        element.appendChild(docLink);\n",
              "      }\n",
              "    </script>\n",
              "  </div>\n",
              "\n",
              "\n",
              "    <div id=\"df-71e24bba-3190-4b4b-bf77-bae53fd93c0a\">\n",
              "      <button class=\"colab-df-quickchart\" onclick=\"quickchart('df-71e24bba-3190-4b4b-bf77-bae53fd93c0a')\"\n",
              "                title=\"Suggest charts\"\n",
              "                style=\"display:none;\">\n",
              "\n",
              "<svg xmlns=\"http://www.w3.org/2000/svg\" height=\"24px\"viewBox=\"0 0 24 24\"\n",
              "     width=\"24px\">\n",
              "    <g>\n",
              "        <path d=\"M19 3H5c-1.1 0-2 .9-2 2v14c0 1.1.9 2 2 2h14c1.1 0 2-.9 2-2V5c0-1.1-.9-2-2-2zM9 17H7v-7h2v7zm4 0h-2V7h2v10zm4 0h-2v-4h2v4z\"/>\n",
              "    </g>\n",
              "</svg>\n",
              "      </button>\n",
              "\n",
              "<style>\n",
              "  .colab-df-quickchart {\n",
              "      --bg-color: #E8F0FE;\n",
              "      --fill-color: #1967D2;\n",
              "      --hover-bg-color: #E2EBFA;\n",
              "      --hover-fill-color: #174EA6;\n",
              "      --disabled-fill-color: #AAA;\n",
              "      --disabled-bg-color: #DDD;\n",
              "  }\n",
              "\n",
              "  [theme=dark] .colab-df-quickchart {\n",
              "      --bg-color: #3B4455;\n",
              "      --fill-color: #D2E3FC;\n",
              "      --hover-bg-color: #434B5C;\n",
              "      --hover-fill-color: #FFFFFF;\n",
              "      --disabled-bg-color: #3B4455;\n",
              "      --disabled-fill-color: #666;\n",
              "  }\n",
              "\n",
              "  .colab-df-quickchart {\n",
              "    background-color: var(--bg-color);\n",
              "    border: none;\n",
              "    border-radius: 50%;\n",
              "    cursor: pointer;\n",
              "    display: none;\n",
              "    fill: var(--fill-color);\n",
              "    height: 32px;\n",
              "    padding: 0;\n",
              "    width: 32px;\n",
              "  }\n",
              "\n",
              "  .colab-df-quickchart:hover {\n",
              "    background-color: var(--hover-bg-color);\n",
              "    box-shadow: 0 1px 2px rgba(60, 64, 67, 0.3), 0 1px 3px 1px rgba(60, 64, 67, 0.15);\n",
              "    fill: var(--button-hover-fill-color);\n",
              "  }\n",
              "\n",
              "  .colab-df-quickchart-complete:disabled,\n",
              "  .colab-df-quickchart-complete:disabled:hover {\n",
              "    background-color: var(--disabled-bg-color);\n",
              "    fill: var(--disabled-fill-color);\n",
              "    box-shadow: none;\n",
              "  }\n",
              "\n",
              "  .colab-df-spinner {\n",
              "    border: 2px solid var(--fill-color);\n",
              "    border-color: transparent;\n",
              "    border-bottom-color: var(--fill-color);\n",
              "    animation:\n",
              "      spin 1s steps(1) infinite;\n",
              "  }\n",
              "\n",
              "  @keyframes spin {\n",
              "    0% {\n",
              "      border-color: transparent;\n",
              "      border-bottom-color: var(--fill-color);\n",
              "      border-left-color: var(--fill-color);\n",
              "    }\n",
              "    20% {\n",
              "      border-color: transparent;\n",
              "      border-left-color: var(--fill-color);\n",
              "      border-top-color: var(--fill-color);\n",
              "    }\n",
              "    30% {\n",
              "      border-color: transparent;\n",
              "      border-left-color: var(--fill-color);\n",
              "      border-top-color: var(--fill-color);\n",
              "      border-right-color: var(--fill-color);\n",
              "    }\n",
              "    40% {\n",
              "      border-color: transparent;\n",
              "      border-right-color: var(--fill-color);\n",
              "      border-top-color: var(--fill-color);\n",
              "    }\n",
              "    60% {\n",
              "      border-color: transparent;\n",
              "      border-right-color: var(--fill-color);\n",
              "    }\n",
              "    80% {\n",
              "      border-color: transparent;\n",
              "      border-right-color: var(--fill-color);\n",
              "      border-bottom-color: var(--fill-color);\n",
              "    }\n",
              "    90% {\n",
              "      border-color: transparent;\n",
              "      border-bottom-color: var(--fill-color);\n",
              "    }\n",
              "  }\n",
              "</style>\n",
              "\n",
              "      <script>\n",
              "        async function quickchart(key) {\n",
              "          const quickchartButtonEl =\n",
              "            document.querySelector('#' + key + ' button');\n",
              "          quickchartButtonEl.disabled = true;  // To prevent multiple clicks.\n",
              "          quickchartButtonEl.classList.add('colab-df-spinner');\n",
              "          try {\n",
              "            const charts = await google.colab.kernel.invokeFunction(\n",
              "                'suggestCharts', [key], {});\n",
              "          } catch (error) {\n",
              "            console.error('Error during call to suggestCharts:', error);\n",
              "          }\n",
              "          quickchartButtonEl.classList.remove('colab-df-spinner');\n",
              "          quickchartButtonEl.classList.add('colab-df-quickchart-complete');\n",
              "        }\n",
              "        (() => {\n",
              "          let quickchartButtonEl =\n",
              "            document.querySelector('#df-71e24bba-3190-4b4b-bf77-bae53fd93c0a button');\n",
              "          quickchartButtonEl.style.display =\n",
              "            google.colab.kernel.accessAllowed ? 'block' : 'none';\n",
              "        })();\n",
              "      </script>\n",
              "    </div>\n",
              "\n",
              "    </div>\n",
              "  </div>\n"
            ],
            "application/vnd.google.colaboratory.intrinsic+json": {
              "type": "dataframe",
              "variable_name": "data",
              "summary": "{\n  \"name\": \"data\",\n  \"rows\": 90,\n  \"fields\": [\n    {\n      \"column\": \"car_model\",\n      \"properties\": {\n        \"dtype\": \"category\",\n        \"num_unique_values\": 25,\n        \"samples\": [\n          \"ignis\",\n          \"etios g\",\n          \"ritz\"\n        ],\n        \"semantic_type\": \"\",\n        \"description\": \"\"\n      }\n    },\n    {\n      \"column\": \"year_of_manufacture\",\n      \"properties\": {\n        \"dtype\": \"date\",\n        \"min\": 2003,\n        \"max\": 2018,\n        \"num_unique_values\": 15,\n        \"samples\": [\n          2012,\n          2003,\n          2014\n        ],\n        \"semantic_type\": \"\",\n        \"description\": \"\"\n      }\n    },\n    {\n      \"column\": \"price\",\n      \"properties\": {\n        \"dtype\": \"number\",\n        \"std\": 9899.743488751052,\n        \"min\": 522.3880597015,\n        \"max\": 52238.80597014925,\n        \"num_unique_values\": 74,\n        \"samples\": [\n          6865.671641791044,\n          34328.35820895522,\n          10223.880597014926\n        ],\n        \"semantic_type\": \"\",\n        \"description\": \"\"\n      }\n    },\n    {\n      \"column\": \"fuel\",\n      \"properties\": {\n        \"dtype\": \"category\",\n        \"num_unique_values\": 3,\n        \"samples\": [\n          \"Petrol\",\n          \"Diesel\",\n          \"CNG\"\n        ],\n        \"semantic_type\": \"\",\n        \"description\": \"\"\n      }\n    }\n  ]\n}"
            }
          },
          "metadata": {},
          "execution_count": 25
        }
      ],
      "source": [
        "data.head()"
      ]
    },
    {
      "cell_type": "code",
      "source": [
        "for col in data.columns:\n",
        "    print(data[col].value_counts(dropna=False))\n",
        "    print()"
      ],
      "metadata": {
        "colab": {
          "base_uri": "https://localhost:8080/"
        },
        "id": "YtMOtIxHeZC7",
        "outputId": "848c7a66-5b13-4f51-ebd9-8aa48b0e53bb"
      },
      "id": "YtMOtIxHeZC7",
      "execution_count": 28,
      "outputs": [
        {
          "output_type": "stream",
          "name": "stdout",
          "text": [
            "car_model\n",
            "corolla altis    11\n",
            "fortuner          9\n",
            "ciaz              9\n",
            "sx4               6\n",
            "innova            6\n",
            "ertiga            6\n",
            "swift             5\n",
            "alto k10          5\n",
            "ritz              4\n",
            "dzire             4\n",
            "etios liva        4\n",
            "wagon r           4\n",
            "etios g           3\n",
            "etios cross       3\n",
            "ignis             1\n",
            "vitara brezza     1\n",
            "s cross           1\n",
            "alto 800          1\n",
            "800               1\n",
            "baleno            1\n",
            "omni              1\n",
            "etios gd          1\n",
            "camry             1\n",
            "land cruiser      1\n",
            "corolla           1\n",
            "Name: count, dtype: int64\n",
            "\n",
            "year_of_manufacture\n",
            "2015    18\n",
            "2014    16\n",
            "2013     9\n",
            "2017     9\n",
            "2011     8\n",
            "2016     8\n",
            "2010     6\n",
            "2012     5\n",
            "2003     2\n",
            "2009     2\n",
            "2005     2\n",
            "2006     2\n",
            "2018     1\n",
            "2008     1\n",
            "2004     1\n",
            "Name: count, dtype: int64\n",
            "\n",
            "price\n",
            "7089.552239     4\n",
            "4253.731343     3\n",
            "11119.402985    3\n",
            "13805.970149    2\n",
            "10820.895522    2\n",
            "               ..\n",
            "5149.253731     1\n",
            "8208.955224     1\n",
            "2238.805970     1\n",
            "7835.820896     1\n",
            "21641.791045    1\n",
            "Name: count, Length: 74, dtype: int64\n",
            "\n",
            "fuel\n",
            "Petrol    52\n",
            "Diesel    36\n",
            "CNG        2\n",
            "Name: count, dtype: int64\n",
            "\n"
          ]
        }
      ]
    },
    {
      "cell_type": "markdown",
      "id": "5265c408-8c63-413f-ad04-8d391e5b564d",
      "metadata": {
        "id": "5265c408-8c63-413f-ad04-8d391e5b564d"
      },
      "source": [
        "# T: Transformation data and save organized data to .parquet file"
      ]
    },
    {
      "cell_type": "code",
      "execution_count": 29,
      "id": "faae9e13-ded5-47e0-8316-13ec6084ed56",
      "metadata": {
        "id": "faae9e13-ded5-47e0-8316-13ec6084ed56"
      },
      "outputs": [],
      "source": [
        "staging_file = \"cars.parquet\"\n",
        "staging_data_dir = \"staging_data\""
      ]
    },
    {
      "cell_type": "code",
      "execution_count": 41,
      "id": "eefdc72e-6359-4363-a648-86082888f2a2",
      "metadata": {
        "id": "eefdc72e-6359-4363-a648-86082888f2a2"
      },
      "outputs": [],
      "source": [
        "def transform(df, multiple_yrs = False):\n",
        "    print(f\"Shape of data {df.shape}\")\n",
        "\n",
        "    # truncate price with 2 decimal place (add your code below)\n",
        "    df['price'] = df['price'].round(2)\n",
        "\n",
        "    # remove samples with same car_model (add your code below)\n",
        "    dup_cols = ['car_model']\n",
        "    if multiple_yrs:\n",
        "        dup_cols.append('year_of_manufacture')\n",
        "\n",
        "    df = df.drop_duplicates(subset=dup_cols)\n",
        "\n",
        "    print(f\"Shape of data {df.shape}\")\n",
        "\n",
        "    # Ensure the staging directory exists before writing the Parquet file\n",
        "    if not os.path.exists(staging_data_dir):\n",
        "        os.makedirs(staging_data_dir)\n",
        "        print(f\"Directory '{staging_data_dir}' created.\")\n",
        "\n",
        "    # write to parquet\n",
        "    df.to_parquet(os.path.join(staging_data_dir, f\"{'multiyear_' if multiple_yrs else ''}{staging_file}\"))\n",
        "    return df"
      ]
    },
    {
      "cell_type": "code",
      "execution_count": 42,
      "id": "4f5d5423-c198-4aa7-89f7-354992f97324",
      "metadata": {
        "colab": {
          "base_uri": "https://localhost:8080/",
          "height": 276
        },
        "id": "4f5d5423-c198-4aa7-89f7-354992f97324",
        "outputId": "ecbbed15-03bd-48db-b9d3-441669d2c3e4"
      },
      "outputs": [
        {
          "output_type": "stream",
          "name": "stdout",
          "text": [
            "Shape of data (90, 4)\n",
            "Shape of data (25, 4)\n",
            "Shape of data (90, 4)\n",
            "Shape of data (63, 4)\n"
          ]
        },
        {
          "output_type": "execute_result",
          "data": {
            "text/plain": [
              "  car_model year_of_manufacture     price    fuel\n",
              "0      ritz                2014   5000.00  Petrol\n",
              "1       sx4                2013   7089.55  Diesel\n",
              "2      ciaz                2017  10820.90  Petrol\n",
              "3   wagon r                2011   4253.73  Petrol\n",
              "4     swift                2014   6865.67  Diesel"
            ],
            "text/html": [
              "\n",
              "  <div id=\"df-a1ae7fb8-595d-45a3-909a-ba61821fa44a\" class=\"colab-df-container\">\n",
              "    <div>\n",
              "<style scoped>\n",
              "    .dataframe tbody tr th:only-of-type {\n",
              "        vertical-align: middle;\n",
              "    }\n",
              "\n",
              "    .dataframe tbody tr th {\n",
              "        vertical-align: top;\n",
              "    }\n",
              "\n",
              "    .dataframe thead th {\n",
              "        text-align: right;\n",
              "    }\n",
              "</style>\n",
              "<table border=\"1\" class=\"dataframe\">\n",
              "  <thead>\n",
              "    <tr style=\"text-align: right;\">\n",
              "      <th></th>\n",
              "      <th>car_model</th>\n",
              "      <th>year_of_manufacture</th>\n",
              "      <th>price</th>\n",
              "      <th>fuel</th>\n",
              "    </tr>\n",
              "  </thead>\n",
              "  <tbody>\n",
              "    <tr>\n",
              "      <th>0</th>\n",
              "      <td>ritz</td>\n",
              "      <td>2014</td>\n",
              "      <td>5000.00</td>\n",
              "      <td>Petrol</td>\n",
              "    </tr>\n",
              "    <tr>\n",
              "      <th>1</th>\n",
              "      <td>sx4</td>\n",
              "      <td>2013</td>\n",
              "      <td>7089.55</td>\n",
              "      <td>Diesel</td>\n",
              "    </tr>\n",
              "    <tr>\n",
              "      <th>2</th>\n",
              "      <td>ciaz</td>\n",
              "      <td>2017</td>\n",
              "      <td>10820.90</td>\n",
              "      <td>Petrol</td>\n",
              "    </tr>\n",
              "    <tr>\n",
              "      <th>3</th>\n",
              "      <td>wagon r</td>\n",
              "      <td>2011</td>\n",
              "      <td>4253.73</td>\n",
              "      <td>Petrol</td>\n",
              "    </tr>\n",
              "    <tr>\n",
              "      <th>4</th>\n",
              "      <td>swift</td>\n",
              "      <td>2014</td>\n",
              "      <td>6865.67</td>\n",
              "      <td>Diesel</td>\n",
              "    </tr>\n",
              "  </tbody>\n",
              "</table>\n",
              "</div>\n",
              "    <div class=\"colab-df-buttons\">\n",
              "\n",
              "  <div class=\"colab-df-container\">\n",
              "    <button class=\"colab-df-convert\" onclick=\"convertToInteractive('df-a1ae7fb8-595d-45a3-909a-ba61821fa44a')\"\n",
              "            title=\"Convert this dataframe to an interactive table.\"\n",
              "            style=\"display:none;\">\n",
              "\n",
              "  <svg xmlns=\"http://www.w3.org/2000/svg\" height=\"24px\" viewBox=\"0 -960 960 960\">\n",
              "    <path d=\"M120-120v-720h720v720H120Zm60-500h600v-160H180v160Zm220 220h160v-160H400v160Zm0 220h160v-160H400v160ZM180-400h160v-160H180v160Zm440 0h160v-160H620v160ZM180-180h160v-160H180v160Zm440 0h160v-160H620v160Z\"/>\n",
              "  </svg>\n",
              "    </button>\n",
              "\n",
              "  <style>\n",
              "    .colab-df-container {\n",
              "      display:flex;\n",
              "      gap: 12px;\n",
              "    }\n",
              "\n",
              "    .colab-df-convert {\n",
              "      background-color: #E8F0FE;\n",
              "      border: none;\n",
              "      border-radius: 50%;\n",
              "      cursor: pointer;\n",
              "      display: none;\n",
              "      fill: #1967D2;\n",
              "      height: 32px;\n",
              "      padding: 0 0 0 0;\n",
              "      width: 32px;\n",
              "    }\n",
              "\n",
              "    .colab-df-convert:hover {\n",
              "      background-color: #E2EBFA;\n",
              "      box-shadow: 0px 1px 2px rgba(60, 64, 67, 0.3), 0px 1px 3px 1px rgba(60, 64, 67, 0.15);\n",
              "      fill: #174EA6;\n",
              "    }\n",
              "\n",
              "    .colab-df-buttons div {\n",
              "      margin-bottom: 4px;\n",
              "    }\n",
              "\n",
              "    [theme=dark] .colab-df-convert {\n",
              "      background-color: #3B4455;\n",
              "      fill: #D2E3FC;\n",
              "    }\n",
              "\n",
              "    [theme=dark] .colab-df-convert:hover {\n",
              "      background-color: #434B5C;\n",
              "      box-shadow: 0px 1px 3px 1px rgba(0, 0, 0, 0.15);\n",
              "      filter: drop-shadow(0px 1px 2px rgba(0, 0, 0, 0.3));\n",
              "      fill: #FFFFFF;\n",
              "    }\n",
              "  </style>\n",
              "\n",
              "    <script>\n",
              "      const buttonEl =\n",
              "        document.querySelector('#df-a1ae7fb8-595d-45a3-909a-ba61821fa44a button.colab-df-convert');\n",
              "      buttonEl.style.display =\n",
              "        google.colab.kernel.accessAllowed ? 'block' : 'none';\n",
              "\n",
              "      async function convertToInteractive(key) {\n",
              "        const element = document.querySelector('#df-a1ae7fb8-595d-45a3-909a-ba61821fa44a');\n",
              "        const dataTable =\n",
              "          await google.colab.kernel.invokeFunction('convertToInteractive',\n",
              "                                                    [key], {});\n",
              "        if (!dataTable) return;\n",
              "\n",
              "        const docLinkHtml = 'Like what you see? Visit the ' +\n",
              "          '<a target=\"_blank\" href=https://colab.research.google.com/notebooks/data_table.ipynb>data table notebook</a>'\n",
              "          + ' to learn more about interactive tables.';\n",
              "        element.innerHTML = '';\n",
              "        dataTable['output_type'] = 'display_data';\n",
              "        await google.colab.output.renderOutput(dataTable, element);\n",
              "        const docLink = document.createElement('div');\n",
              "        docLink.innerHTML = docLinkHtml;\n",
              "        element.appendChild(docLink);\n",
              "      }\n",
              "    </script>\n",
              "  </div>\n",
              "\n",
              "\n",
              "    <div id=\"df-e462337f-3830-4f38-a507-d1c7389ac6ac\">\n",
              "      <button class=\"colab-df-quickchart\" onclick=\"quickchart('df-e462337f-3830-4f38-a507-d1c7389ac6ac')\"\n",
              "                title=\"Suggest charts\"\n",
              "                style=\"display:none;\">\n",
              "\n",
              "<svg xmlns=\"http://www.w3.org/2000/svg\" height=\"24px\"viewBox=\"0 0 24 24\"\n",
              "     width=\"24px\">\n",
              "    <g>\n",
              "        <path d=\"M19 3H5c-1.1 0-2 .9-2 2v14c0 1.1.9 2 2 2h14c1.1 0 2-.9 2-2V5c0-1.1-.9-2-2-2zM9 17H7v-7h2v7zm4 0h-2V7h2v10zm4 0h-2v-4h2v4z\"/>\n",
              "    </g>\n",
              "</svg>\n",
              "      </button>\n",
              "\n",
              "<style>\n",
              "  .colab-df-quickchart {\n",
              "      --bg-color: #E8F0FE;\n",
              "      --fill-color: #1967D2;\n",
              "      --hover-bg-color: #E2EBFA;\n",
              "      --hover-fill-color: #174EA6;\n",
              "      --disabled-fill-color: #AAA;\n",
              "      --disabled-bg-color: #DDD;\n",
              "  }\n",
              "\n",
              "  [theme=dark] .colab-df-quickchart {\n",
              "      --bg-color: #3B4455;\n",
              "      --fill-color: #D2E3FC;\n",
              "      --hover-bg-color: #434B5C;\n",
              "      --hover-fill-color: #FFFFFF;\n",
              "      --disabled-bg-color: #3B4455;\n",
              "      --disabled-fill-color: #666;\n",
              "  }\n",
              "\n",
              "  .colab-df-quickchart {\n",
              "    background-color: var(--bg-color);\n",
              "    border: none;\n",
              "    border-radius: 50%;\n",
              "    cursor: pointer;\n",
              "    display: none;\n",
              "    fill: var(--fill-color);\n",
              "    height: 32px;\n",
              "    padding: 0;\n",
              "    width: 32px;\n",
              "  }\n",
              "\n",
              "  .colab-df-quickchart:hover {\n",
              "    background-color: var(--hover-bg-color);\n",
              "    box-shadow: 0 1px 2px rgba(60, 64, 67, 0.3), 0 1px 3px 1px rgba(60, 64, 67, 0.15);\n",
              "    fill: var(--button-hover-fill-color);\n",
              "  }\n",
              "\n",
              "  .colab-df-quickchart-complete:disabled,\n",
              "  .colab-df-quickchart-complete:disabled:hover {\n",
              "    background-color: var(--disabled-bg-color);\n",
              "    fill: var(--disabled-fill-color);\n",
              "    box-shadow: none;\n",
              "  }\n",
              "\n",
              "  .colab-df-spinner {\n",
              "    border: 2px solid var(--fill-color);\n",
              "    border-color: transparent;\n",
              "    border-bottom-color: var(--fill-color);\n",
              "    animation:\n",
              "      spin 1s steps(1) infinite;\n",
              "  }\n",
              "\n",
              "  @keyframes spin {\n",
              "    0% {\n",
              "      border-color: transparent;\n",
              "      border-bottom-color: var(--fill-color);\n",
              "      border-left-color: var(--fill-color);\n",
              "    }\n",
              "    20% {\n",
              "      border-color: transparent;\n",
              "      border-left-color: var(--fill-color);\n",
              "      border-top-color: var(--fill-color);\n",
              "    }\n",
              "    30% {\n",
              "      border-color: transparent;\n",
              "      border-left-color: var(--fill-color);\n",
              "      border-top-color: var(--fill-color);\n",
              "      border-right-color: var(--fill-color);\n",
              "    }\n",
              "    40% {\n",
              "      border-color: transparent;\n",
              "      border-right-color: var(--fill-color);\n",
              "      border-top-color: var(--fill-color);\n",
              "    }\n",
              "    60% {\n",
              "      border-color: transparent;\n",
              "      border-right-color: var(--fill-color);\n",
              "    }\n",
              "    80% {\n",
              "      border-color: transparent;\n",
              "      border-right-color: var(--fill-color);\n",
              "      border-bottom-color: var(--fill-color);\n",
              "    }\n",
              "    90% {\n",
              "      border-color: transparent;\n",
              "      border-bottom-color: var(--fill-color);\n",
              "    }\n",
              "  }\n",
              "</style>\n",
              "\n",
              "      <script>\n",
              "        async function quickchart(key) {\n",
              "          const quickchartButtonEl =\n",
              "            document.querySelector('#' + key + ' button');\n",
              "          quickchartButtonEl.disabled = true;  // To prevent multiple clicks.\n",
              "          quickchartButtonEl.classList.add('colab-df-spinner');\n",
              "          try {\n",
              "            const charts = await google.colab.kernel.invokeFunction(\n",
              "                'suggestCharts', [key], {});\n",
              "          } catch (error) {\n",
              "            console.error('Error during call to suggestCharts:', error);\n",
              "          }\n",
              "          quickchartButtonEl.classList.remove('colab-df-spinner');\n",
              "          quickchartButtonEl.classList.add('colab-df-quickchart-complete');\n",
              "        }\n",
              "        (() => {\n",
              "          let quickchartButtonEl =\n",
              "            document.querySelector('#df-e462337f-3830-4f38-a507-d1c7389ac6ac button');\n",
              "          quickchartButtonEl.style.display =\n",
              "            google.colab.kernel.accessAllowed ? 'block' : 'none';\n",
              "        })();\n",
              "      </script>\n",
              "    </div>\n",
              "\n",
              "    </div>\n",
              "  </div>\n"
            ],
            "application/vnd.google.colaboratory.intrinsic+json": {
              "type": "dataframe",
              "variable_name": "df",
              "summary": "{\n  \"name\": \"df\",\n  \"rows\": 25,\n  \"fields\": [\n    {\n      \"column\": \"car_model\",\n      \"properties\": {\n        \"dtype\": \"string\",\n        \"num_unique_values\": 25,\n        \"samples\": [\n          \"ignis\",\n          \"etios g\",\n          \"ritz\"\n        ],\n        \"semantic_type\": \"\",\n        \"description\": \"\"\n      }\n    },\n    {\n      \"column\": \"year_of_manufacture\",\n      \"properties\": {\n        \"dtype\": \"date\",\n        \"min\": 2003,\n        \"max\": 2018,\n        \"num_unique_values\": 13,\n        \"samples\": [\n          2010,\n          2003,\n          2014\n        ],\n        \"semantic_type\": \"\",\n        \"description\": \"\"\n      }\n    },\n    {\n      \"column\": \"price\",\n      \"properties\": {\n        \"dtype\": \"number\",\n        \"std\": 10689.321123917443,\n        \"min\": 522.39,\n        \"max\": 52238.81,\n        \"num_unique_values\": 21,\n        \"samples\": [\n          5000.0,\n          1865.67,\n          522.39\n        ],\n        \"semantic_type\": \"\",\n        \"description\": \"\"\n      }\n    },\n    {\n      \"column\": \"fuel\",\n      \"properties\": {\n        \"dtype\": \"category\",\n        \"num_unique_values\": 2,\n        \"samples\": [\n          \"Diesel\",\n          \"Petrol\"\n        ],\n        \"semantic_type\": \"\",\n        \"description\": \"\"\n      }\n    }\n  ]\n}"
            }
          },
          "metadata": {},
          "execution_count": 42
        }
      ],
      "source": [
        "# print the head of your data\n",
        "df = transform(data)\n",
        "df_my = transform(data, multiple_yrs = True)\n",
        "df.head()"
      ]
    },
    {
      "cell_type": "markdown",
      "id": "a960d531-a731-42d4-906c-4602391a16ca",
      "metadata": {
        "id": "a960d531-a731-42d4-906c-4602391a16ca"
      },
      "source": [
        "# L: Loading data for further modeling"
      ]
    },
    {
      "cell_type": "markdown",
      "id": "bef01f8d-a8b6-454c-a842-61c44cf04efc",
      "metadata": {
        "id": "bef01f8d-a8b6-454c-a842-61c44cf04efc"
      },
      "source": [
        "### Set Up PostgreSQL Locally\n",
        "#### Step 1: Install PostgreSQL\n",
        "- Windows: Download from MySQL Official Site {https://www.postgresql.org/download/}\n",
        "- Mac:\n",
        "  ```{bash}\n",
        "  brew install postgresql\n",
        "  brew services start postgresql\n",
        "  ```\n",
        "Then access PostgreSQL CLI\n",
        "```{bash}\n",
        "psql -U postgres\n",
        "```\n",
        "Note: if you don't have default \"postgres\" user, then create it manually by\n",
        "```{bash}\n",
        "default \"postgres\" user\n",
        "```\n",
        "or\n",
        "```{bash}\n",
        "sudo -u $(whoami) createuser postgres -s\n",
        "```\n",
        "\n",
        "Then create a database\n",
        "```{sql}\n",
        "CREATE DATABASE my_local_db;\n",
        "\\l  -- List all databases\n",
        "```\n",
        "\n",
        "#### Step 2: Create a User and Grant Privileges\n",
        "In PostgreSQL CLI:\n",
        "```{sql}\n",
        "CREATE USER myuser WITH ENCRYPTED PASSWORD 'mypassword';\n",
        "GRANT ALL PRIVILEGES ON DATABASE my_local_db TO myuser;\n",
        "```\n",
        "\n",
        "#### Step 3: Install Required Python Libraries\n",
        "```{bash}\n",
        "pip install pandas sqlalchemy pymysql psycopg2 mysql-connector-python\n",
        "```"
      ]
    },
    {
      "cell_type": "markdown",
      "id": "b270a29e-c73a-4ca1-b7e8-64ec621cb29a",
      "metadata": {
        "id": "b270a29e-c73a-4ca1-b7e8-64ec621cb29a"
      },
      "source": [
        "### Utility function for writing data into the SQL database"
      ]
    },
    {
      "cell_type": "code",
      "execution_count": 61,
      "id": "6f188de2-ae27-444c-8590-4c1dde9ac7e6",
      "metadata": {
        "id": "6f188de2-ae27-444c-8590-4c1dde9ac7e6"
      },
      "outputs": [],
      "source": [
        "# Database credentials\n",
        "db_host = \"localhost\"\n",
        "db_user = \"myuser\"\n",
        "db_password = \"mypassword\"\n",
        "db_name = \"my_local_db\"\n",
        "\n",
        "conn_string = f\"postgresql+psycopg2://{db_user}:{db_password}@{db_host}/{db_name}\"\n",
        "\n",
        "engine = create_engine(conn_string)"
      ]
    },
    {
      "cell_type": "code",
      "execution_count": null,
      "id": "7cdb749a-4467-4264-b23b-f0693ee980af",
      "metadata": {
        "id": "7cdb749a-4467-4264-b23b-f0693ee980af"
      },
      "outputs": [],
      "source": [
        "# Test connection\n",
        "df = pd.read_sql(\"SELECT * FROM pg_catalog.pg_tables;\", con=engine)\n",
        "print(df)"
      ]
    },
    {
      "cell_type": "code",
      "execution_count": 59,
      "id": "f2fed596-5b37-4da6-927d-facc292e733e",
      "metadata": {
        "id": "f2fed596-5b37-4da6-927d-facc292e733e"
      },
      "outputs": [],
      "source": [
        "def insert_to_table(data: pd.DataFrame, conn_string:str, table_name:str):\n",
        "    db = create_engine(conn_string) # creates a connection to the database using SQLAlchemy\n",
        "    conn = db.connect() # Establishes a database connection\n",
        "    data.to_sql(table_name, conn, if_exists=\"replace\", index=False)\n",
        "    conn.close()"
      ]
    },
    {
      "cell_type": "code",
      "execution_count": null,
      "id": "db20ac0d-c828-45a1-b29a-a8cf20e5cdf5",
      "metadata": {
        "id": "db20ac0d-c828-45a1-b29a-a8cf20e5cdf5"
      },
      "outputs": [],
      "source": [
        "# read from the .parquet file\n",
        "\n",
        "def load() -> pd.DataFrame:\n",
        "    data = pd.DataFrame()\n",
        "    for parquet_file in glob.glob(os.path.join(staging_data_dir, \"*.parquet\")):\n",
        "        data = pd.concat([pd.read_parquet(parquet_file),data])\n",
        "\n",
        "    #insert_to_table(data, table_name)\n",
        "    insert_to_table(data = data, conn_string = conn_string, table_name = 'ml_car_data')\n",
        "\n",
        "    return data\n",
        "\n",
        "data = load()\n",
        "print(data.shape)"
      ]
    },
    {
      "cell_type": "code",
      "source": [],
      "metadata": {
        "id": "FWSPJyo2sDLw"
      },
      "id": "FWSPJyo2sDLw",
      "execution_count": null,
      "outputs": []
    }
  ],
  "metadata": {
    "kernelspec": {
      "display_name": "Python 3 (ipykernel)",
      "language": "python",
      "name": "python3"
    },
    "language_info": {
      "codemirror_mode": {
        "name": "ipython",
        "version": 3
      },
      "file_extension": ".py",
      "mimetype": "text/x-python",
      "name": "python",
      "nbconvert_exporter": "python",
      "pygments_lexer": "ipython3",
      "version": "3.8.8"
    },
    "colab": {
      "provenance": []
    }
  },
  "nbformat": 4,
  "nbformat_minor": 5
}