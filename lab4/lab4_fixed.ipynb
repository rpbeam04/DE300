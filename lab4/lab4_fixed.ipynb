{
 "cells": [
  {
   "cell_type": "code",
   "execution_count": 1,
   "id": "bb551726",
   "metadata": {},
   "outputs": [
    {
     "name": "stderr",
     "output_type": "stream",
     "text": [
      "C:\\Users\\rpbea\\AppData\\Local\\Temp\\ipykernel_7276\\332746716.py:7: DeprecationWarning: ssl.PROTOCOL_TLSv1_2 is deprecated\n",
      "  ssl_context = SSLContext(PROTOCOL_TLSv1_2)\n"
     ]
    }
   ],
   "source": [
    "from cassandra.cluster import Cluster\n",
    "from ssl import SSLContext, PROTOCOL_TLSv1_2, CERT_REQUIRED\n",
    "from cassandra_sigv4.auth import SigV4AuthProvider\n",
    "import boto3\n",
    "\n",
    "# ssl setup\n",
    "ssl_context = SSLContext(PROTOCOL_TLSv1_2)\n",
    "ssl_context.load_verify_locations('sf-class2-root.crt')  # change your file path for locating the certificate\n",
    "ssl_context.verify_mode = CERT_REQUIRED\n",
    "\n",
    "# boto3 session setup\n",
    "boto_session = boto3.Session(region_name=\"us-east-2\")  # this AWS credentials is specific to `us-east-2` region"
   ]
  },
  {
   "cell_type": "code",
   "execution_count": 2,
   "id": "cd97c730",
   "metadata": {},
   "outputs": [],
   "source": [
    "# authorization setup with SigV4\n",
    "auth_provider = SigV4AuthProvider(boto_session)"
   ]
  },
  {
   "cell_type": "code",
   "execution_count": 3,
   "id": "12b71d9e",
   "metadata": {},
   "outputs": [],
   "source": [
    "#cluster setup \n",
    "cluster = Cluster(['cassandra.us-east-2.amazonaws.com'], \n",
    "                  ssl_context=ssl_context, \n",
    "                  auth_provider=auth_provider, \n",
    "                  port=9142)  # TLS only communicates on port 9142"
   ]
  },
  {
   "cell_type": "code",
   "execution_count": 4,
   "id": "e07fc491",
   "metadata": {},
   "outputs": [],
   "source": [
    "# establishing connection to Keyspace\n",
    "session = cluster.connect()"
   ]
  },
  {
   "cell_type": "code",
   "execution_count": 7,
   "id": "e5e7d84d",
   "metadata": {},
   "outputs": [
    {
     "name": "stdout",
     "output_type": "stream",
     "text": [
      "[Row(keyspace_name='system_schema', durable_writes=True, replication=OrderedMapSerializedKey([('class', 'org.apache.cassandra.locator.SimpleStrategy'), ('replication_factor', '3')])),\n",
      " Row(keyspace_name='system_schema_mcs', durable_writes=True, replication=OrderedMapSerializedKey([('class', 'org.apache.cassandra.locator.SimpleStrategy'), ('replication_factor', '3')])),\n",
      " Row(keyspace_name='system', durable_writes=True, replication=OrderedMapSerializedKey([('class', 'org.apache.cassandra.locator.SimpleStrategy'), ('replication_factor', '3')])),\n",
      " Row(keyspace_name='system_multiregion_info', durable_writes=True, replication=OrderedMapSerializedKey([('class', 'org.apache.cassandra.locator.SimpleStrategy'), ('replication_factor', '3')])),\n",
      " Row(keyspace_name='de300_axc4282', durable_writes=True, replication=OrderedMapSerializedKey([('class', 'org.apache.cassandra.locator.SimpleStrategy'), ('replication_factor', '3')])),\n",
      " Row(keyspace_name='de300_demo', durable_writes=True, replication=OrderedMapSerializedKey([('class', 'org.apache.cassandra.locator.SimpleStrategy'), ('replication_factor', '3')])),\n",
      " Row(keyspace_name='de300_sabian_lab4', durable_writes=True, replication=OrderedMapSerializedKey([('class', 'org.apache.cassandra.locator.SimpleStrategy'), ('replication_factor', '3')])),\n",
      " Row(keyspace_name='de300_ttk6623', durable_writes=True, replication=OrderedMapSerializedKey([('class', 'org.apache.cassandra.locator.SimpleStrategy'), ('replication_factor', '3')]))]\n"
     ]
    }
   ],
   "source": [
    "# Insert any CQL queries between .connect() and .shutdown()\n",
    "\n",
    "# For example, show all keyspaces created\n",
    "r = session.execute('''\n",
    "    SELECT * FROM system_schema.keyspaces;\n",
    "    ''')\n",
    "from pprint import pprint\n",
    "pprint(r.current_rows)"
   ]
  },
  {
   "cell_type": "code",
   "execution_count": 16,
   "id": "eaf31475",
   "metadata": {},
   "outputs": [
    {
     "name": "stdout",
     "output_type": "stream",
     "text": [
      "[]\n"
     ]
    }
   ],
   "source": [
    "# For example, create a keyspace for HW2\n",
    "r = session.execute('''\n",
    "    CREATE KEYSPACE IF NOT EXISTS ryan_beam \n",
    "    WITH replication = {'class': 'SingleRegionStrategy'};\n",
    "    ''')\n",
    "print(r.current_rows)"
   ]
  },
  {
   "cell_type": "code",
   "execution_count": 17,
   "id": "8c25835b",
   "metadata": {},
   "outputs": [],
   "source": [
    "from cassandra.cluster import ExecutionProfile, EXEC_PROFILE_DEFAULT\n",
    "from cassandra import ConsistencyLevel\n",
    "\n",
    "\n",
    "# Define execution profile with LOCAL_QUORUM\n",
    "execution_profile = ExecutionProfile(\n",
    "    consistency_level=ConsistencyLevel.LOCAL_QUORUM\n",
    ")\n",
    "\n",
    "# Cluster setup with correct profile\n",
    "cluster = Cluster(\n",
    "    ['cassandra.us-east-2.amazonaws.com'],\n",
    "    ssl_context=ssl_context,\n",
    "    auth_provider=auth_provider,\n",
    "    port=9142,\n",
    "    execution_profiles={EXEC_PROFILE_DEFAULT: execution_profile}\n",
    ")\n",
    "\n",
    "# establishing connection to Keyspace\n",
    "session = cluster.connect()\n",
    "session.set_keyspace('ryan_beam')  # Replace with your keyspace"
   ]
  },
  {
   "cell_type": "code",
   "execution_count": 19,
   "id": "86c84c16",
   "metadata": {},
   "outputs": [
    {
     "name": "stdout",
     "output_type": "stream",
     "text": [
      "[]\n"
     ]
    }
   ],
   "source": [
    "# show all tables\n",
    "r = session.execute(\"\"\"\n",
    "    SELECT * FROM system_schema.tables WHERE keyspace_name = 'ryan_beam';\n",
    "\"\"\")\n",
    "pprint(r.current_rows)"
   ]
  },
  {
   "cell_type": "code",
   "execution_count": 20,
   "id": "60559ba0",
   "metadata": {},
   "outputs": [
    {
     "data": {
      "text/plain": [
       "<cassandra.cluster.ResultSet at 0x2424b633150>"
      ]
     },
     "execution_count": 20,
     "metadata": {},
     "output_type": "execute_result"
    }
   ],
   "source": [
    "session.execute(\"\"\"\n",
    "CREATE TABLE IF NOT EXISTS github (\n",
    "    id UUID PRIMARY KEY,\n",
    "    name TEXT,\n",
    "    username TEXT\n",
    ")\n",
    "\"\"\")"
   ]
  },
  {
   "cell_type": "code",
   "execution_count": 21,
   "id": "6c35ad24",
   "metadata": {},
   "outputs": [
    {
     "data": {
      "text/plain": [
       "<cassandra.cluster.ResultSet at 0x2424b7de910>"
      ]
     },
     "execution_count": 21,
     "metadata": {},
     "output_type": "execute_result"
    }
   ],
   "source": [
    "import uuid\n",
    "\n",
    "session.execute(\"\"\"\n",
    "    INSERT INTO github (id, name, username)\n",
    "    VALUES (%s, %s, %s)\n",
    "\"\"\", (uuid.uuid4(), \"Ryan Beam\", \"rpbeam04\"))\n",
    "\n",
    "# Replace \"Your_Name\" with your name\n",
    "# Replace \"Your_GitHub_User_Name\" with your real GitHub User"
   ]
  },
  {
   "cell_type": "code",
   "execution_count": 22,
   "id": "e8fda253",
   "metadata": {},
   "outputs": [],
   "source": [
    "import csv\n",
    "\n",
    "rows = session.execute(\"SELECT * FROM github\")\n",
    "with open(\"github.csv\", \"w\", newline=\"\") as f:\n",
    "    writer = csv.writer(f)\n",
    "    writer.writerow([\"id\", \"name\", \"username\"])\n",
    "    for row in rows:\n",
    "        writer.writerow([row.id, row.name, row.username])"
   ]
  },
  {
   "cell_type": "code",
   "execution_count": 23,
   "id": "3012475f",
   "metadata": {},
   "outputs": [
    {
     "name": "stdout",
     "output_type": "stream",
     "text": [
      "[Row(id=UUID('909984c0-d6b7-402f-a0e9-1c002b9d9473'), name='Isabe_Zhang', username='ijzhang2021'),\n",
      " Row(id=UUID('84c930a8-99b8-4dd5-8e39-51b6fcbabed0'), name='Aaryan Agrawal', username='2409aaryan'),\n",
      " Row(id=UUID('983aa805-8739-45e5-81fc-605ee1b86953'), name='Katie Mowry', username='katiemowry'),\n",
      " Row(id=UUID('fdec6238-dbaf-4fd3-ad8e-8b9e73f4a069'), name='Your_Name', username='Your_GitHub_Username'),\n",
      " Row(id=UUID('9a76a9c1-d3f5-4b15-b5a2-11076dd99a35'), name='Alicia_Malek', username='am604'),\n",
      " Row(id=UUID('1a3c69aa-4d94-457a-9ea4-e2170154e3cc'), name='Nayeon Kim', username='nkimm26'),\n",
      " Row(id=UUID('e1ee1618-4a3c-4d98-a456-53a467db821f'), name='Harrison_Gillespie', username='Warry13'),\n",
      " Row(id=UUID('f379fad9-88aa-4313-9e58-84d0e95965fb'), name='Linda Liu', username='HYTF'),\n",
      " Row(id=UUID('596771cf-b1b3-43ae-96e8-b230d6d71139'), name='Aaryan Agrawal', username='2409aaryan'),\n",
      " Row(id=UUID('4242cf59-0e18-4569-98a2-79e5ed24f4a5'), name='Jonathan Wu', username='jwu5711'),\n",
      " Row(id=UUID('3d50750c-32ec-4ea6-a410-3442d44c9cf7'), name='Justin Dong', username='dongjustinn'),\n",
      " Row(id=UUID('1653ac03-a119-456a-b2bd-d3c14bdaa3d0'), name='Daniel Wong', username='daniellwong442'),\n",
      " Row(id=UUID('974fef4d-1bda-4f64-b539-b3f883e5f076'), name='Justin Dong', username='dongjustinn'),\n",
      " Row(id=UUID('1d720d40-2083-48be-8a3a-2f0beb141431'), name='Your_Name', username='Your_GitHub_Username'),\n",
      " Row(id=UUID('88a38d77-372e-4440-87d9-85bcf0ae85ff'), name='Alex Chen', username='chenisius123'),\n",
      " Row(id=UUID('16db808f-8cc7-4f76-b192-9dda63252e33'), name='Nayeon Kim', username='nkimm26'),\n",
      " Row(id=UUID('1f5c9e97-417c-4f1e-9d4a-fa566c024789'), name='Siddhika Swarup', username='siddhikaswarup'),\n",
      " Row(id=UUID('456062e5-972e-4b72-83b5-9bdbb61e3c69'), name='Amrita', username='anatarajan22'),\n",
      " Row(id=UUID('430fbcb7-ee8c-4344-8a8e-a52d22e3f7ae'), name='Nicky_Williams', username='NickyWilli'),\n",
      " Row(id=UUID('8f977dad-8931-45d6-9542-771a9f85087e'), name='Alicia_Malek', username='am604'),\n",
      " Row(id=UUID('41e56080-9026-443a-99a3-e0e00f28ee4f'), name='Samnang Nuonsinoeun', username='SamFromCam'),\n",
      " Row(id=UUID('790b7baf-44a4-487e-8dbf-42f528a6edcd'), name='Alex Chen', username='chenisius123'),\n",
      " Row(id=UUID('fa13a2af-bf53-4ebe-848e-27aa86092d9e'), name='Ryan Beam', username='rpbeam04'),\n",
      " Row(id=UUID('a2772956-cc70-4462-a6d6-c3e409696e99'), name='Seeley McGillis', username='seeleymcgillis'),\n",
      " Row(id=UUID('72afbf39-ef82-4e76-9fe3-7ff7f0bd0da6'), name='Tidapa Thampeera', username='nakatidapa'),\n",
      " Row(id=UUID('57e34312-6136-4a58-8b8a-6c4ae8670269'), name='Isabel_Zhang', username='ijzhang2021'),\n",
      " Row(id=UUID('62355580-aae7-405a-a566-4c833a1e8681'), name='Sabian Atmadja', username='sabian147'),\n",
      " Row(id=UUID('29b45fd4-2864-42af-89ba-21d5639bf6f1'), name='Isabel_Zhang', username='ijzhang2021'),\n",
      " Row(id=UUID('107ef784-861c-45a9-a310-38d5103d5f96'), name='Sabian Atmadja', username='sabian147'),\n",
      " Row(id=UUID('f0df0032-8b4a-47f8-ac2c-41ff61dca42b'), name='Kyan Shlipak', username='kyanshlipak'),\n",
      " Row(id=UUID('e3d123e4-0912-422f-9b99-c787f5e057ad'), name='Arthur_Chen', username='arthur-ccccccc'),\n",
      " Row(id=UUID('32d36476-b76b-494a-87a2-74023a0e5243'), name='Rachel', username='RachelSilverman104')]\n"
     ]
    }
   ],
   "source": [
    "# writing my credentials to main demo table\n",
    "session.set_keyspace('de300_demo') \n",
    "session.execute(\"\"\"\n",
    "    INSERT INTO github (id, name, username)\n",
    "    VALUES (%s, %s, %s)\n",
    "\"\"\", (uuid.uuid4(), \"Ryan Beam\", \"rpbeam04\"))\n",
    "\n",
    "r = session.execute(\"\"\"\n",
    "    SELECT * FROM Github\n",
    "\"\"\")\n",
    "pprint(r.current_rows)"
   ]
  },
  {
   "cell_type": "code",
   "execution_count": 27,
   "id": "6d199577",
   "metadata": {},
   "outputs": [
    {
     "name": "stdout",
     "output_type": "stream",
     "text": [
      "[Row(id=UUID('41e56080-9026-443a-99a3-e0e00f28ee4f'), name='Samnang Nuonsinoeun', username='SamFromCam'),\n",
      " Row(id=UUID('790b7baf-44a4-487e-8dbf-42f528a6edcd'), name='Alex Chen', username='chenisius123'),\n",
      " Row(id=UUID('fa13a2af-bf53-4ebe-848e-27aa86092d9e'), name='Ryan Beam', username='rpbeam04'),\n",
      " Row(id=UUID('a2772956-cc70-4462-a6d6-c3e409696e99'), name='Seeley McGillis', username='seeleymcgillis'),\n",
      " Row(id=UUID('72afbf39-ef82-4e76-9fe3-7ff7f0bd0da6'), name='Tidapa Thampeera', username='nakatidapa'),\n",
      " Row(id=UUID('57e34312-6136-4a58-8b8a-6c4ae8670269'), name='Isabel_Zhang', username='ijzhang2021'),\n",
      " Row(id=UUID('62355580-aae7-405a-a566-4c833a1e8681'), name='Sabian Atmadja', username='sabian147'),\n",
      " Row(id=UUID('29b45fd4-2864-42af-89ba-21d5639bf6f1'), name='Isabel_Zhang', username='ijzhang2021'),\n",
      " Row(id=UUID('107ef784-861c-45a9-a310-38d5103d5f96'), name='Sabian Atmadja', username='sabian147'),\n",
      " Row(id=UUID('f0df0032-8b4a-47f8-ac2c-41ff61dca42b'), name='Kyan Shlipak', username='kyanshlipak')]\n"
     ]
    }
   ],
   "source": [
    "r = session.execute(\"\"\"\n",
    "    SELECT * FROM Github;\n",
    "\"\"\")\n",
    "pprint(r.current_rows[20:30])"
   ]
  },
  {
   "cell_type": "code",
   "execution_count": null,
   "id": "adf50dd4",
   "metadata": {},
   "outputs": [],
   "source": []
  }
 ],
 "metadata": {
  "kernelspec": {
   "display_name": ".venv",
   "language": "python",
   "name": "python3"
  },
  "language_info": {
   "codemirror_mode": {
    "name": "ipython",
    "version": 3
   },
   "file_extension": ".py",
   "mimetype": "text/x-python",
   "name": "python",
   "nbconvert_exporter": "python",
   "pygments_lexer": "ipython3",
   "version": "3.11.1"
  }
 },
 "nbformat": 4,
 "nbformat_minor": 5
}
